{
 "cells": [
  {
   "cell_type": "markdown",
   "metadata": {},
   "source": [
    "# QST-CGAN performance\n",
    "\n",
    "Reconstructing the `cat` state from measurements of the Husimi Q function. The cat state is defined as:\n",
    "\n",
    "$$|\\psi_{\\text{cat}} \\rangle = \\frac{1}{\\mathcal N} ( |\\alpha \\rangle + |-\\alpha \\rangle \\big ) $$\n",
    "\n",
    "with $\\alpha=2$ and normalization $\\mathcal N$.\n",
    "\n",
    "## Husimi Q function measurements\n",
    "\n",
    "The Husimi Q function can be obtained by calculating the expectation value of measuring the following operator:\n",
    "\n",
    "$$\\mathcal O_i = \\frac{1}{\\pi}|\\beta_i \\rangle \\langle \\beta_i|$$\n",
    "\n",
    "where $|\\beta_i \\rangle $ are coherent states written in the Fock basis.\n"
   ]
  },
  {
   "cell_type": "code",
   "execution_count": 1,
   "metadata": {},
   "outputs": [
    {
     "name": "stderr",
     "output_type": "stream",
     "text": [
      "/Users/shahnawaz/miniconda3/envs/qtensorflow/lib/python3.9/site-packages/tqdm/auto.py:22: TqdmWarning: IProgress not found. Please update jupyter and ipywidgets. See https://ipywidgets.readthedocs.io/en/stable/user_install.html\n",
      "  from .autonotebook import tqdm as notebook_tqdm\n"
     ]
    }
   ],
   "source": [
    "import numpy as np\n",
    "\n",
    "from qutip import coherent, coherent_dm, expect, Qobj, fidelity\n",
    "from qutip.wigner import wigner, qfunc\n",
    "from qutip.visualization import hinton\n",
    "\n",
    "\n",
    "import tensorflow as tf\n",
    "\n",
    "from tqdm.auto import tqdm\n",
    "\n",
    "from qst_cgan.ops import convert_to_real_ops, batched_expect, tf_fidelity\n",
    "from qst_cgan.gan import generator_loss, discriminator_loss, Generator, Discriminator\n",
    "\n",
    "\n",
    "import matplotlib.pyplot as plt\n",
    "from mpl_toolkits.axes_grid1.inset_locator import inset_axes\n",
    "\n",
    "from dataclasses import dataclass\n",
    "\n",
    "%load_ext autoreload\n",
    "tf.keras.backend.set_floatx('float64') # Set float64 as the default"
   ]
  },
  {
   "cell_type": "code",
   "execution_count": 2,
   "metadata": {},
   "outputs": [
    {
     "data": {
      "image/png": "[encoded data removed]",
      "text/plain": [
       "<Figure size 432x288 with 2 Axes>"
      ]
     },
     "metadata": {
      "needs_background": "light"
     },
     "output_type": "display_data"
    }
   ],
   "source": [
    "hilbert_size = 32\n",
    "alpha = 2.\n",
    "\n",
    "psi = coherent(hilbert_size, alpha) + coherent(hilbert_size, -alpha)\n",
    "psi = psi.unit() # The .unit() function normalizes the state to have unit trace\n",
    "\n",
    "grid = 32\n",
    "xvec = np.linspace(-5, 5, grid)\n",
    "yvec = np.linspace(-3, 3, grid)\n",
    "\n",
    "q = qfunc(psi, xvec, yvec, g=2)\n",
    "\n",
    "cmap = \"Blues\"\n",
    "im = plt.pcolor(xvec, yvec, q, vmin=0, vmax=np.max(q), cmap=cmap, shading='auto')\n",
    "plt.colorbar(im)\n",
    "plt.xlabel(r\"Re($\\beta$)\")\n",
    "plt.ylabel(r\"Im($\\beta$)\")\n",
    "plt.title(\"Husimi Q function\")\n",
    "plt.show()"
   ]
  },
  {
   "cell_type": "markdown",
   "metadata": {},
   "source": [
    "# Construct the measurement operators and simulated data (without any noise)"
   ]
  },
  {
   "cell_type": "code",
   "execution_count": 3,
   "metadata": {},
   "outputs": [],
   "source": [
    "X, Y = np.meshgrid(xvec, yvec)\n",
    "betas = (X + 1j*Y).ravel()\n",
    "m_ops = [(1/np.pi)*coherent_dm(hilbert_size, beta) for beta in betas]\n",
    "\n",
    "data = expect(m_ops, psi)"
   ]
  },
  {
   "cell_type": "code",
   "execution_count": 4,
   "metadata": {},
   "outputs": [],
   "source": [
    "# Test if the expectation value of the measurement operators matches the Husimi Q function\n",
    "np.testing.assert_array_almost_equal(data, q.ravel())"
   ]
  },
  {
   "cell_type": "markdown",
   "metadata": {},
   "source": [
    "# Setup the inputs to the neural network - measurement ops and data\n",
    "\n",
    "We need to convert the QuTiP qunatum objects to TensorFlow objects in order to feed them to the neural network.\n",
    "We take 1024 operators (32 x 32 grid of complex $\\beta$ values in the phase space). Each operator is a complex matrix\n",
    "of size 32 x 32 since we choose a Hilbert space cutoff of 32. \n",
    "\n",
    "Once we convert the measurement operators to a TensorFlow complex tensor, we further separate the real and imaginary parts.\n",
    "The measurement operators are therefore input as real matrix with the last dimension as (`2 x ` number of operators). We have 1024 operators and therefore the input to the neural networks is a $1 \\times  32 \\times 32  \\times 2048$ dimensional tensor containing the real and imaginary parts of the all the complex-valued measurement operators."
   ]
  },
  {
   "cell_type": "code",
   "execution_count": 5,
   "metadata": {},
   "outputs": [
    {
     "name": "stdout",
     "output_type": "stream",
     "text": [
      "(1, 1024, 32, 32) <dtype: 'complex128'>\n"
     ]
    },
    {
     "name": "stderr",
     "output_type": "stream",
     "text": [
      "2022-04-11 14:36:26.625333: I tensorflow/core/platform/cpu_feature_guard.cc:142] This TensorFlow binary is optimized with oneAPI Deep Neural Network Library (oneDNN) to use the following CPU instructions in performance-critical operations:  AVX2 FMA\n",
      "To enable them in other operations, rebuild TensorFlow with the appropriate compiler flags.\n"
     ]
    }
   ],
   "source": [
    "ops_numpy = [op.full() for op in m_ops] # convert the QuTiP Qobj to numpy arrays\n",
    "ops_tf = tf.convert_to_tensor([ops_numpy]) # convert the numpy arrays to complex TensorFlow tensors\n",
    "\n",
    "print(ops_tf.shape, ops_tf.dtype)"
   ]
  },
  {
   "cell_type": "code",
   "execution_count": 6,
   "metadata": {},
   "outputs": [
    {
     "name": "stdout",
     "output_type": "stream",
     "text": [
      "(1, 32, 32, 2048) <dtype: 'float64'>\n"
     ]
    }
   ],
   "source": [
    "A = convert_to_real_ops(ops_tf) # convert the complex-valued numpy matrices to real-valued TensorFlow tensors\n",
    "print(A.shape, A.dtype)"
   ]
  },
  {
   "cell_type": "markdown",
   "metadata": {},
   "source": [
    "# Batched expectation values using TensorFlow\n"
   ]
  },
  {
   "cell_type": "code",
   "execution_count": 7,
   "metadata": {},
   "outputs": [],
   "source": [
    "rho = psi*psi.dag() # Density matrix in QuTiP\n",
    "rho_numpy = rho.full().reshape((1, hilbert_size, hilbert_size)) # Conversion to NumPy array and reshaping into (1, N, N) to allow batching\n",
    "rho_tf = tf.complex(rho_numpy.real, rho_numpy.imag)\n",
    "\n",
    "x = batched_expect(ops_tf, rho_tf)"
   ]
  },
  {
   "cell_type": "markdown",
   "metadata": {},
   "source": [
    "Let us visualize the data obtained by computing expectation values using TensorFlow versions of QuTiP functions"
   ]
  },
  {
   "cell_type": "code",
   "execution_count": 8,
   "metadata": {},
   "outputs": [
    {
     "data": {
      "image/png": "[encoded data removed]",
      "text/plain": [
       "<Figure size 432x288 with 2 Axes>"
      ]
     },
     "metadata": {
      "needs_background": "light"
     },
     "output_type": "display_data"
    }
   ],
   "source": [
    "im = plt.pcolor(xvec, yvec, x.numpy().reshape((grid, grid)),vmin=0, vmax=np.max(q), cmap=cmap, shading='auto')\n",
    "plt.colorbar(im)\n",
    "plt.xlabel(r\"Re($\\beta$)\")\n",
    "plt.ylabel(r\"Im($\\beta$)\")\n",
    "plt.title(\"Husimi Q function (TensorFlow generated\")\n",
    "plt.show()"
   ]
  },
  {
   "cell_type": "markdown",
   "metadata": {},
   "source": [
    "# Training the Conditional Generative Adversarial Network (CGAN)\n",
    "\n",
    "We construct a `Generator` and a `Discriminator` using TensorFlow and train them for state reconstruction in an adversarial fashion. The inputs to the CGAN are the data (`x`) and the measurement operators converted as real matrices `A`. "
   ]
  },
  {
   "cell_type": "code",
   "execution_count": 9,
   "metadata": {},
   "outputs": [
    {
     "name": "stdout",
     "output_type": "stream",
     "text": [
      "1024\n"
     ]
    }
   ],
   "source": [
    "num_measurements = x.shape[-1]\n",
    "print(num_measurements)\n",
    "\n",
    "generator = Generator(hilbert_size, num_measurements, noise=0.) # Specify the number of measurement settings and Gaussian noise\n",
    "discriminator = Discriminator(hilbert_size, num_measurements)"
   ]
  },
  {
   "cell_type": "markdown",
   "metadata": {},
   "source": [
    "## Generator"
   ]
  },
  {
   "cell_type": "code",
   "execution_count": 10,
   "metadata": {},
   "outputs": [
    {
     "name": "stdout",
     "output_type": "stream",
     "text": [
      "Model: \"model\"\n",
      "__________________________________________________________________________________________________\n",
      "Layer (type)                    Output Shape         Param #     Connected to                     \n",
      "==================================================================================================\n",
      "inputs (InputLayer)             [(None, 1024)]       0                                            \n",
      "__________________________________________________________________________________________________\n",
      "dense (Dense)                   (None, 512)          524288      inputs[0][0]                     \n",
      "__________________________________________________________________________________________________\n",
      "leaky_re_lu (LeakyReLU)         (None, 512)          0           dense[0][0]                      \n",
      "__________________________________________________________________________________________________\n",
      "reshape (Reshape)               (None, 16, 16, 2)    0           leaky_re_lu[0][0]                \n",
      "__________________________________________________________________________________________________\n",
      "conv2d_transpose (Conv2DTranspo (None, 32, 32, 64)   2048        reshape[0][0]                    \n",
      "__________________________________________________________________________________________________\n",
      "instance_normalization (Instanc (None, 32, 32, 64)   128         conv2d_transpose[0][0]           \n",
      "__________________________________________________________________________________________________\n",
      "leaky_re_lu_1 (LeakyReLU)       (None, 32, 32, 64)   0           instance_normalization[0][0]     \n",
      "__________________________________________________________________________________________________\n",
      "conv2d_transpose_1 (Conv2DTrans (None, 32, 32, 64)   65536       leaky_re_lu_1[0][0]              \n",
      "__________________________________________________________________________________________________\n",
      "instance_normalization_1 (Insta (None, 32, 32, 64)   128         conv2d_transpose_1[0][0]         \n",
      "__________________________________________________________________________________________________\n",
      "operators (InputLayer)          [(None, 32, 32, 2048 0                                            \n",
      "__________________________________________________________________________________________________\n",
      "leaky_re_lu_2 (LeakyReLU)       (None, 32, 32, 64)   0           instance_normalization_1[0][0]   \n",
      "__________________________________________________________________________________________________\n",
      "tf.__operators__.getitem (Slici (None, 32, 32, 1024) 0           operators[0][0]                  \n",
      "__________________________________________________________________________________________________\n",
      "tf.__operators__.getitem_1 (Sli (None, 32, 32, 1024) 0           operators[0][0]                  \n",
      "__________________________________________________________________________________________________\n",
      "conv2d_transpose_2 (Conv2DTrans (None, 32, 32, 32)   32768       leaky_re_lu_2[0][0]              \n",
      "__________________________________________________________________________________________________\n",
      "tf.dtypes.complex (TFOpLambda)  (None, 32, 32, 1024) 0           tf.__operators__.getitem[0][0]   \n",
      "                                                                 tf.__operators__.getitem_1[0][0] \n",
      "__________________________________________________________________________________________________\n",
      "conv2d_transpose_3 (Conv2DTrans (None, 32, 32, 2)    1024        conv2d_transpose_2[0][0]         \n",
      "__________________________________________________________________________________________________\n",
      "tf.compat.v1.transpose (TFOpLam (None, 1024, 32, 32) 0           tf.dtypes.complex[0][0]          \n",
      "__________________________________________________________________________________________________\n",
      "density_matrix (DensityMatrix)  (None, 32, 32)       0           conv2d_transpose_3[0][0]         \n",
      "__________________________________________________________________________________________________\n",
      "expectation (Expectation)       (None, 1024)         0           tf.compat.v1.transpose[0][0]     \n",
      "                                                                 density_matrix[0][0]             \n",
      "__________________________________________________________________________________________________\n",
      "gaussian_noise (GaussianNoise)  (None, 1024)         0           expectation[0][0]                \n",
      "==================================================================================================\n",
      "Total params: 625,920\n",
      "Trainable params: 625,920\n",
      "Non-trainable params: 0\n",
      "__________________________________________________________________________________________________\n"
     ]
    }
   ],
   "source": [
    "generator.summary()"
   ]
  },
  {
   "cell_type": "markdown",
   "metadata": {},
   "source": [
    "## Discriminator"
   ]
  },
  {
   "cell_type": "code",
   "execution_count": 11,
   "metadata": {},
   "outputs": [
    {
     "name": "stdout",
     "output_type": "stream",
     "text": [
      "Model: \"model_1\"\n",
      "__________________________________________________________________________________________________\n",
      "Layer (type)                    Output Shape         Param #     Connected to                     \n",
      "==================================================================================================\n",
      "input_image (InputLayer)        [(None, 1024)]       0                                            \n",
      "__________________________________________________________________________________________________\n",
      "target_image (InputLayer)       [(None, 1024)]       0                                            \n",
      "__________________________________________________________________________________________________\n",
      "concatenate (Concatenate)       (None, 2048)         0           input_image[0][0]                \n",
      "                                                                 target_image[0][0]               \n",
      "__________________________________________________________________________________________________\n",
      "dense_1 (Dense)                 (None, 128)          262272      concatenate[0][0]                \n",
      "__________________________________________________________________________________________________\n",
      "leaky_re_lu_3 (LeakyReLU)       (None, 128)          0           dense_1[0][0]                    \n",
      "__________________________________________________________________________________________________\n",
      "dense_2 (Dense)                 (None, 128)          16512       leaky_re_lu_3[0][0]              \n",
      "__________________________________________________________________________________________________\n",
      "leaky_re_lu_4 (LeakyReLU)       (None, 128)          0           dense_2[0][0]                    \n",
      "__________________________________________________________________________________________________\n",
      "dense_3 (Dense)                 (None, 64)           8256        leaky_re_lu_4[0][0]              \n",
      "__________________________________________________________________________________________________\n",
      "operators (InputLayer)          [(None, 32, 32, 2048 0                                            \n",
      "__________________________________________________________________________________________________\n",
      "dense_4 (Dense)                 (None, 64)           4160        dense_3[0][0]                    \n",
      "==================================================================================================\n",
      "Total params: 291,200\n",
      "Trainable params: 291,200\n",
      "Non-trainable params: 0\n",
      "__________________________________________________________________________________________________\n",
      "None\n"
     ]
    }
   ],
   "source": [
    "print(discriminator.summary())"
   ]
  },
  {
   "cell_type": "markdown",
   "metadata": {},
   "source": [
    "# Training\n",
    "\n",
    "We train the networks using TensorFlow optimizers and record the loss function as well as intermediate density matrices during training. In order to get the intermediate density matrices, we construct a `density matrix` model called `model_dm` model that outputs the density matrix using the generator."
   ]
  },
  {
   "cell_type": "code",
   "execution_count": 12,
   "metadata": {},
   "outputs": [
    {
     "name": "stdout",
     "output_type": "stream",
     "text": [
      "17\n"
     ]
    }
   ],
   "source": [
    "density_layer_idx = None\n",
    "\n",
    "for i, layer in enumerate(generator.layers):\n",
    "    if \"density_matrix\" in layer._name:\n",
    "        density_layer_idx = i\n",
    "        break\n",
    "\n",
    "print(density_layer_idx)\n",
    "model_dm = tf.keras.Model(inputs=generator.input, outputs=generator.layers[density_layer_idx].output)\n",
    "\n",
    "@dataclass\n",
    "class LossHistory:\n",
    "    \"\"\"Class for keeping track of loss\"\"\"\n",
    "    generator: list\n",
    "    discriminator: list\n",
    "    l1: list\n",
    "\n",
    "loss = LossHistory([], [], [])\n",
    "fidelities = []"
   ]
  },
  {
   "cell_type": "code",
   "execution_count": 13,
   "metadata": {},
   "outputs": [],
   "source": [
    "initial_learning_rate = 0.0002\n",
    "\n",
    "lr_schedule = tf.keras.optimizers.schedules.InverseTimeDecay(initial_learning_rate,\n",
    "                                                             decay_steps=10000,\n",
    "                                                             decay_rate=.96,\n",
    "                                                             staircase=False)\n",
    "\n",
    "lam = 100.\n",
    "\n",
    "generator_optimizer = tf.keras.optimizers.Adam(lr_schedule, 0.5, 0.5)\n",
    "discriminator_optimizer = tf.keras.optimizers.Adam(lr_schedule, 0.5, 0.5)\n",
    "\n",
    "max_iterations = 10000\n"
   ]
  },
  {
   "cell_type": "code",
   "execution_count": 14,
   "metadata": {},
   "outputs": [
    {
     "name": "stderr",
     "output_type": "stream",
     "text": [
      "Fidelity 0.9900913406573801 | Gen loss 0.6931478977203369 | L1 loss 0.00011080290130411176 | Disc loss 1.3862943649291992:  38%|███▊      | 3800/10000 [13:25<21:53,  4.72it/s]\n"
     ]
    },
    {
     "ename": "KeyboardInterrupt",
     "evalue": "",
     "output_type": "error",
     "traceback": [
      "\u001b[0;31m---------------------------------------------------------------------------\u001b[0m",
      "\u001b[0;31mKeyboardInterrupt\u001b[0m                         Traceback (most recent call last)",
      "\u001b[0;32m/var/folders/8s/tfpsk_fx609f8w7z__yzz9vh0000gn/T/ipykernel_44790/374394187.py\u001b[0m in \u001b[0;36m<module>\u001b[0;34m\u001b[0m\n\u001b[1;32m     54\u001b[0m     \u001b[0mtrain_step\u001b[0m\u001b[0;34m(\u001b[0m\u001b[0mA\u001b[0m\u001b[0;34m,\u001b[0m \u001b[0mx\u001b[0m\u001b[0;34m)\u001b[0m\u001b[0;34m\u001b[0m\u001b[0;34m\u001b[0m\u001b[0m\n\u001b[1;32m     55\u001b[0m     \u001b[0mdensity_matrix\u001b[0m \u001b[0;34m=\u001b[0m \u001b[0mmodel_dm\u001b[0m\u001b[0;34m(\u001b[0m\u001b[0;34m[\u001b[0m\u001b[0mA\u001b[0m\u001b[0;34m,\u001b[0m \u001b[0mx\u001b[0m\u001b[0;34m]\u001b[0m\u001b[0;34m)\u001b[0m\u001b[0;34m\u001b[0m\u001b[0;34m\u001b[0m\u001b[0m\n\u001b[0;32m---> 56\u001b[0;31m     \u001b[0mf\u001b[0m \u001b[0;34m=\u001b[0m \u001b[0mtf_fidelity\u001b[0m\u001b[0;34m(\u001b[0m\u001b[0mdensity_matrix\u001b[0m\u001b[0;34m,\u001b[0m \u001b[0mrho_tf\u001b[0m\u001b[0;34m)\u001b[0m\u001b[0;34m[\u001b[0m\u001b[0;34m-\u001b[0m\u001b[0;36m1\u001b[0m\u001b[0;34m]\u001b[0m\u001b[0;34m\u001b[0m\u001b[0;34m\u001b[0m\u001b[0m\n\u001b[0m\u001b[1;32m     57\u001b[0m     \u001b[0mfidelities\u001b[0m\u001b[0;34m.\u001b[0m\u001b[0mappend\u001b[0m\u001b[0;34m(\u001b[0m\u001b[0mf\u001b[0m\u001b[0;34m)\u001b[0m\u001b[0;34m\u001b[0m\u001b[0;34m\u001b[0m\u001b[0m\n\u001b[1;32m     58\u001b[0m     \u001b[0mpbar\u001b[0m\u001b[0;34m.\u001b[0m\u001b[0mset_description\u001b[0m\u001b[0;34m(\u001b[0m\u001b[0;34m\"Fidelity {} | Gen loss {} | L1 loss {} | Disc loss {}\"\u001b[0m\u001b[0;34m.\u001b[0m\u001b[0mformat\u001b[0m\u001b[0;34m(\u001b[0m\u001b[0mf\u001b[0m\u001b[0;34m,\u001b[0m \u001b[0mloss\u001b[0m\u001b[0;34m.\u001b[0m\u001b[0mgenerator\u001b[0m\u001b[0;34m[\u001b[0m\u001b[0;34m-\u001b[0m\u001b[0;36m1\u001b[0m\u001b[0;34m]\u001b[0m\u001b[0;34m,\u001b[0m \u001b[0mloss\u001b[0m\u001b[0;34m.\u001b[0m\u001b[0ml1\u001b[0m\u001b[0;34m[\u001b[0m\u001b[0;34m-\u001b[0m\u001b[0;36m1\u001b[0m\u001b[0;34m]\u001b[0m\u001b[0;34m,\u001b[0m \u001b[0mloss\u001b[0m\u001b[0;34m.\u001b[0m\u001b[0mdiscriminator\u001b[0m\u001b[0;34m[\u001b[0m\u001b[0;34m-\u001b[0m\u001b[0;36m1\u001b[0m\u001b[0;34m]\u001b[0m\u001b[0;34m)\u001b[0m\u001b[0;34m)\u001b[0m\u001b[0;34m\u001b[0m\u001b[0;34m\u001b[0m\u001b[0m\n",
      "\u001b[0;32m~/Dropbox/dev/qst-cgan/qst_cgan/ops.py\u001b[0m in \u001b[0;36mtf_fidelity\u001b[0;34m(A, B)\u001b[0m\n\u001b[1;32m    186\u001b[0m         \u001b[0mfloat\u001b[0m\u001b[0;34m:\u001b[0m \u001b[0mFidelity\u001b[0m \u001b[0mbetween\u001b[0m \u001b[0mA\u001b[0m \u001b[0;32mand\u001b[0m \u001b[0mB\u001b[0m\u001b[0;34m\u001b[0m\u001b[0;34m\u001b[0m\u001b[0m\n\u001b[1;32m    187\u001b[0m     \"\"\"\n\u001b[0;32m--> 188\u001b[0;31m     \u001b[0msqrtmA\u001b[0m \u001b[0;34m=\u001b[0m \u001b[0mtf\u001b[0m\u001b[0;34m.\u001b[0m\u001b[0mmatrix_square_root\u001b[0m\u001b[0;34m(\u001b[0m\u001b[0mA\u001b[0m\u001b[0;34m)\u001b[0m\u001b[0;34m\u001b[0m\u001b[0;34m\u001b[0m\u001b[0m\n\u001b[0m\u001b[1;32m    189\u001b[0m     \u001b[0mtemp\u001b[0m \u001b[0;34m=\u001b[0m \u001b[0mtf\u001b[0m\u001b[0;34m.\u001b[0m\u001b[0mmatmul\u001b[0m\u001b[0;34m(\u001b[0m\u001b[0msqrtmA\u001b[0m\u001b[0;34m,\u001b[0m \u001b[0mB\u001b[0m\u001b[0;34m)\u001b[0m\u001b[0;34m\u001b[0m\u001b[0;34m\u001b[0m\u001b[0m\n\u001b[1;32m    190\u001b[0m     \u001b[0mtemp2\u001b[0m \u001b[0;34m=\u001b[0m \u001b[0mtf\u001b[0m\u001b[0;34m.\u001b[0m\u001b[0mmatmul\u001b[0m\u001b[0;34m(\u001b[0m\u001b[0mtemp\u001b[0m\u001b[0;34m,\u001b[0m \u001b[0msqrtmA\u001b[0m\u001b[0;34m)\u001b[0m\u001b[0;34m\u001b[0m\u001b[0;34m\u001b[0m\u001b[0m\n",
      "\u001b[0;32m~/miniconda3/envs/qtensorflow/lib/python3.9/site-packages/tensorflow/python/ops/gen_linalg_ops.py\u001b[0m in \u001b[0;36mmatrix_square_root\u001b[0;34m(input, name)\u001b[0m\n\u001b[1;32m   1836\u001b[0m   \u001b[0;32mif\u001b[0m \u001b[0mtld\u001b[0m\u001b[0;34m.\u001b[0m\u001b[0mis_eager\u001b[0m\u001b[0;34m:\u001b[0m\u001b[0;34m\u001b[0m\u001b[0;34m\u001b[0m\u001b[0m\n\u001b[1;32m   1837\u001b[0m     \u001b[0;32mtry\u001b[0m\u001b[0;34m:\u001b[0m\u001b[0;34m\u001b[0m\u001b[0;34m\u001b[0m\u001b[0m\n\u001b[0;32m-> 1838\u001b[0;31m       _result = pywrap_tfe.TFE_Py_FastPathExecute(\n\u001b[0m\u001b[1;32m   1839\u001b[0m         _ctx, \"MatrixSquareRoot\", name, input)\n\u001b[1;32m   1840\u001b[0m       \u001b[0;32mreturn\u001b[0m \u001b[0m_result\u001b[0m\u001b[0;34m\u001b[0m\u001b[0;34m\u001b[0m\u001b[0m\n",
      "\u001b[0;31mKeyboardInterrupt\u001b[0m: "
     ]
    }
   ],
   "source": [
    "def train_step(A, x):\n",
    "    \"\"\"Takes one step of training for the full A matrix representing the\n",
    "    measurement operators and data x.\n",
    "\n",
    "    Note that the `generator`, `discriminator`, `generator_optimizer` and the\n",
    "    `discriminator_optimizer` has to be defined before calling this function.\n",
    "\n",
    "    Args:\n",
    "        A (tf.Tensor): A tensor of shape (m, hilbert_size, hilbert_size, n x 2)\n",
    "                       where m=1 for a single reconstruction, and n represents\n",
    "                       the number of measured operators. We split the complex\n",
    "                       operators as real and imaginary in the last axis. The \n",
    "                       helper function `convert_to_real_ops` can be used to\n",
    "                       generate the matrix A with a set of complex operators\n",
    "                       given by `ops` with shape (1, n, hilbert_size, hilbert_size)\n",
    "                       by calling `A = convert_to_real_ops(ops)`.\n",
    "\n",
    "        x (tf.Tensor): A tensor of shape (m, n) with m=1 for a single\n",
    "                       reconstruction and `n` representing the number of\n",
    "                       measurements. \n",
    "    \"\"\"\n",
    "    with tf.GradientTape() as gen_tape, tf.GradientTape() as disc_tape:\n",
    "        gen_output = generator([A, x], training=True)\n",
    "\n",
    "        disc_real_output = discriminator([A, x, x], training=True)\n",
    "        disc_generated_output = discriminator([A, x, gen_output], training=True)\n",
    "\n",
    "        gen_total_loss, gen_gan_loss, gen_l1_loss = generator_loss(\n",
    "            disc_generated_output, gen_output, x, lam=lam\n",
    "        )\n",
    "        disc_loss = discriminator_loss(disc_real_output, disc_generated_output)\n",
    "\n",
    "    generator_gradients = gen_tape.gradient(\n",
    "        gen_total_loss, generator.trainable_variables\n",
    "    )\n",
    "    discriminator_gradients = disc_tape.gradient(\n",
    "        disc_loss, discriminator.trainable_variables\n",
    "    )\n",
    "\n",
    "    generator_optimizer.apply_gradients(\n",
    "        zip(generator_gradients, generator.trainable_variables)\n",
    "    )\n",
    "    discriminator_optimizer.apply_gradients(\n",
    "        zip(discriminator_gradients, discriminator.trainable_variables)\n",
    "    )\n",
    "\n",
    "    loss.generator.append(gen_gan_loss)\n",
    "    loss.l1.append(gen_l1_loss)\n",
    "    loss.discriminator.append(disc_loss)\n",
    "\n",
    "\n",
    "pbar = tqdm(range(max_iterations))\n",
    "for i in pbar:\n",
    "    train_step(A, x)\n",
    "    density_matrix = model_dm([A, x])\n",
    "    f = tf_fidelity(density_matrix, rho_tf)[-1]\n",
    "    fidelities.append(f)\n",
    "    pbar.set_description(\"Fidelity {} | Gen loss {} | L1 loss {} | Disc loss {}\".format(f, loss.generator[-1], loss.l1[-1], loss.discriminator[-1]))"
   ]
  },
  {
   "cell_type": "code",
   "execution_count": 15,
   "metadata": {},
   "outputs": [
    {
     "data": {
      "image/png": "[encoded data removed]",
      "text/plain": [
       "<Figure size 432x288 with 1 Axes>"
      ]
     },
     "metadata": {
      "needs_background": "light"
     },
     "output_type": "display_data"
    }
   ],
   "source": [
    "iterations = np.arange(len(fidelities))\n",
    "plt.plot(iterations, fidelities, color=\"red\", label=\"QST-CGAN\")\n",
    "plt.xlabel(\"Iterations\")\n",
    "plt.ylabel(\"Fidelity\")\n",
    "plt.ylim(0, 1.02)\n",
    "plt.grid(which='minor', alpha=0.2)\n",
    "plt.grid(which='major', alpha=0.2)\n",
    "plt.xscale('log')\n",
    "plt.show()"
   ]
  },
  {
   "cell_type": "code",
   "execution_count": 16,
   "metadata": {},
   "outputs": [
    {
     "name": "stderr",
     "output_type": "stream",
     "text": [
      "/var/folders/8s/tfpsk_fx609f8w7z__yzz9vh0000gn/T/ipykernel_44790/391115164.py:7: MatplotlibDeprecationWarning: shading='flat' when X and Y have the same dimensions as C is deprecated since 3.3.  Either specify the corners of the quadrilaterals with X and Y, or pass shading='auto', 'nearest' or 'gouraud', or set rcParams['pcolor.shading'].  This will become an error two minor releases later.\n",
      "  im = ax[0].pcolor(xvec, yvec, data.reshape((grid, grid)), cmap=\"Blues\")\n",
      "/var/folders/8s/tfpsk_fx609f8w7z__yzz9vh0000gn/T/ipykernel_44790/391115164.py:8: MatplotlibDeprecationWarning: shading='flat' when X and Y have the same dimensions as C is deprecated since 3.3.  Either specify the corners of the quadrilaterals with X and Y, or pass shading='auto', 'nearest' or 'gouraud', or set rcParams['pcolor.shading'].  This will become an error two minor releases later.\n",
      "  ax[1].pcolor(xvec, yvec, data_predicted.reshape((grid, grid)), cmap=\"Blues\")\n"
     ]
    },
    {
     "data": {
      "image/png": "[encoded data removed]",
      "text/plain": [
       "<Figure size 864x288 with 3 Axes>"
      ]
     },
     "metadata": {
      "needs_background": "light"
     },
     "output_type": "display_data"
    }
   ],
   "source": [
    "density_matrix = model_dm([A, x])\n",
    "rho_predicted = Qobj(density_matrix.numpy().reshape((hilbert_size, hilbert_size)))\n",
    "data_predicted = qfunc(rho_predicted, xvec, yvec, g= 2)\n",
    "\n",
    "fig, ax = plt.subplots(1, 2, figsize=(12, 4), sharex=True, sharey=True)\n",
    "\n",
    "im = ax[0].pcolor(xvec, yvec, data.reshape((grid, grid)), cmap=\"Blues\")\n",
    "ax[1].pcolor(xvec, yvec, data_predicted.reshape((grid, grid)), cmap=\"Blues\")\n",
    "\n",
    "ax[0].set_xlabel(r\"Re($\\beta$)\")\n",
    "ax[1].set_xlabel(r\"Re($\\beta$)\")\n",
    "ax[0].set_ylabel(r\"Im($\\beta$)\")\n",
    "ax[0].set_title(\"Noisy data\")\n",
    "ax[1].set_title(\"Reconstructed\\nFidelity {}\".format(fidelity(rho, rho_predicted)))\n",
    "plt.colorbar(im, ax=[axis for axis in ax])\n",
    "plt.show()"
   ]
  },
  {
   "cell_type": "code",
   "execution_count": 17,
   "metadata": {},
   "outputs": [],
   "source": [
    "xvec2 = np.linspace(-3, 3, 100)\n",
    "yvec2 = np.linspace(-3, 3, 100)"
   ]
  },
  {
   "cell_type": "code",
   "execution_count": 18,
   "metadata": {},
   "outputs": [
    {
     "name": "stderr",
     "output_type": "stream",
     "text": [
      "/var/folders/8s/tfpsk_fx609f8w7z__yzz9vh0000gn/T/ipykernel_44790/99663585.py:3: MatplotlibDeprecationWarning: shading='flat' when X and Y have the same dimensions as C is deprecated since 3.3.  Either specify the corners of the quadrilaterals with X and Y, or pass shading='auto', 'nearest' or 'gouraud', or set rcParams['pcolor.shading'].  This will become an error two minor releases later.\n",
      "  im = ax[0].pcolor(xvec2, yvec2, wigner(rho, xvec2, yvec2, g= 2), cmap=\"RdBu_r\")\n",
      "/var/folders/8s/tfpsk_fx609f8w7z__yzz9vh0000gn/T/ipykernel_44790/99663585.py:4: MatplotlibDeprecationWarning: shading='flat' when X and Y have the same dimensions as C is deprecated since 3.3.  Either specify the corners of the quadrilaterals with X and Y, or pass shading='auto', 'nearest' or 'gouraud', or set rcParams['pcolor.shading'].  This will become an error two minor releases later.\n",
      "  ax[1].pcolor(xvec2, yvec2, wigner(rho_predicted, xvec2, yvec2, g= 2), cmap=\"RdBu_r\")\n"
     ]
    },
    {
     "data": {
      "image/png": "[encoded data removed]",
      "text/plain": [
       "<Figure size 864x288 with 3 Axes>"
      ]
     },
     "metadata": {
      "needs_background": "light"
     },
     "output_type": "display_data"
    }
   ],
   "source": [
    "fig, ax = plt.subplots(1, 2, figsize=(12, 4), sharex=True, sharey=True)\n",
    "\n",
    "im = ax[0].pcolor(xvec2, yvec2, wigner(rho, xvec2, yvec2, g= 2), cmap=\"RdBu_r\")\n",
    "ax[1].pcolor(xvec2, yvec2, wigner(rho_predicted, xvec2, yvec2, g= 2), cmap=\"RdBu_r\")\n",
    "\n",
    "ax[0].set_xlabel(r\"Re($\\beta$)\")\n",
    "ax[1].set_xlabel(r\"Re($\\beta$)\")\n",
    "ax[0].set_ylabel(r\"Im($\\beta$)\")\n",
    "ax[0].set_title(\"Noisy data\")\n",
    "ax[1].set_title(\"Reconstructed\\nFidelity {}\".format(fidelity(rho, rho_predicted)))\n",
    "plt.colorbar(im, ax=[axis for axis in ax])\n",
    "plt.show()"
   ]
  },
  {
   "cell_type": "code",
   "execution_count": 19,
   "metadata": {},
   "outputs": [
    {
     "name": "stderr",
     "output_type": "stream",
     "text": [
      "/Users/shahnawaz/miniconda3/envs/qtensorflow/lib/python3.9/site-packages/qutip/visualization.py:320: UserWarning: FixedFormatter should only be used together with FixedLocator\n",
      "  ax.set_xticklabels(xlabels)\n",
      "/Users/shahnawaz/miniconda3/envs/qtensorflow/lib/python3.9/site-packages/qutip/visualization.py:328: UserWarning: FixedFormatter should only be used together with FixedLocator\n",
      "  ax.set_yticklabels(list(reversed(ylabels)))\n",
      "/Users/shahnawaz/miniconda3/envs/qtensorflow/lib/python3.9/site-packages/qutip/visualization.py:320: UserWarning: FixedFormatter should only be used together with FixedLocator\n",
      "  ax.set_xticklabels(xlabels)\n",
      "/Users/shahnawaz/miniconda3/envs/qtensorflow/lib/python3.9/site-packages/qutip/visualization.py:328: UserWarning: FixedFormatter should only be used together with FixedLocator\n",
      "  ax.set_yticklabels(list(reversed(ylabels)))\n"
     ]
    }
   ],
   "source": [
    "fig, ax = plt.subplots(1, 2, figsize=(12, 4))\n",
    "\n",
    "hinton(rho, ax=ax[0])\n",
    "hinton(rho_predicted, ax=ax[1])\n",
    "\n",
    "ax[0].set_xlabel(r\"Re($\\beta$)\")\n",
    "ax[1].set_xlabel(r\"Re($\\beta$)\")\n",
    "ax[0].set_ylabel(r\"Im($\\beta$)\")\n",
    "ax[0].set_title(\"True\")\n",
    "ax[1].set_title(\"Reconstructed\\nFidelity {}\".format(fidelity(rho, rho_predicted)))\n",
    "plt.show()"
   ]
  }
 ],
 "metadata": {
  "interpreter": {
   "hash": "2233be6a3956c874a48c6fd5b87bf8a1e6d820c7a8b203922feb36e9920695d6"
  },
  "kernelspec": {
   "display_name": "Python 3.9.5 64-bit ('qstcgan': conda)",
   "name": "python3"
  },
  "language_info": {
   "codemirror_mode": {
    "name": "ipython",
    "version": 3
   },
   "file_extension": ".py",
   "mimetype": "text/x-python",
   "name": "python",
   "nbconvert_exporter": "python",
   "pygments_lexer": "ipython3",
   "version": "3.9.6"
  },
  "orig_nbformat": 4
 },
 "nbformat": 4,
 "nbformat_minor": 2
}
