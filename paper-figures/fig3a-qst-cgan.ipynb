{
 "cells": [
  {
   "cell_type": "markdown",
   "source": [
    "# QST-CGAN performance\n",
    "\n",
    "Reconstructing the `cat` state from measurements of the Husimi Q function. The cat state is defined as:\n",
    "\n",
    "$$|\\psi_{\\text{cat}} \\rangle = \\frac{1}{\\mathcal N} ( |\\alpha \\rangle + |-\\alpha \\rangle \\big ) $$\n",
    "\n",
    "with $\\alpha=2$ and normalization $\\mathcal N$.\n",
    "\n",
    "## Husimi Q function measurements\n",
    "\n",
    "The Husimi Q function can be obtained by calculating the expectation value of measuring the following operator:\n",
    "\n",
    "$$\\mathcal O_i = \\frac{1}{\\pi}|\\beta_i \\rangle \\langle \\beta_i|$$\n",
    "\n",
    "where $|\\beta_i \\rangle $ are coherent states written in the Fock basis.\n"
   ],
   "metadata": {}
  },
  {
   "cell_type": "code",
   "execution_count": 16,
   "source": [
    "import numpy as np\n",
    "\n",
    "from qutip import coherent, coherent_dm, expect, Qobj, fidelity\n",
    "from qutip.wigner import wigner, qfunc\n",
    "\n",
    "\n",
    "import tensorflow as tf\n",
    "\n",
    "from tqdm.auto import tqdm\n",
    "\n",
    "from qst_cgan.ops import convert_to_real_ops, batched_expect, tf_fidelity\n",
    "from qst_cgan.gan import generator_loss, discriminator_loss, Generator, Discriminator\n",
    "\n",
    "\n",
    "import matplotlib.pyplot as plt\n",
    "from mpl_toolkits.axes_grid1.inset_locator import inset_axes\n",
    "\n",
    "from dataclasses import dataclass\n",
    "\n",
    "%load_ext autoreload\n",
    "tf.keras.backend.set_floatx('float64') # Set float64 as the default"
   ],
   "outputs": [
    {
     "output_type": "stream",
     "name": "stdout",
     "text": [
      "The autoreload extension is already loaded. To reload it, use:\n",
      "  %reload_ext autoreload\n"
     ]
    }
   ],
   "metadata": {}
  },
  {
   "cell_type": "code",
   "execution_count": 17,
   "source": [
    "hilbert_size = 32\n",
    "alpha = 2\n",
    "\n",
    "psi = coherent(hilbert_size, alpha) + coherent(hilbert_size, -alpha)\n",
    "psi = psi.unit() # The .unit() function normalizes the state to have unit trace\n",
    "\n",
    "grid = 32\n",
    "xvec = np.linspace(-3, 3, grid)\n",
    "yvec = np.linspace(-3, 3, grid)\n",
    "\n",
    "q = qfunc(psi, xvec, yvec, g=2)\n",
    "\n",
    "cmap = \"Blues\"\n",
    "im = plt.pcolor(xvec, yvec, q, vmin=0, vmax=np.max(q), cmap=cmap, shading='auto')\n",
    "plt.colorbar(im)\n",
    "plt.xlabel(r\"Re($\\beta$)\")\n",
    "plt.ylabel(r\"Im($\\beta$)\")\n",
    "plt.title(\"Husimi Q function\")\n",
    "plt.show()"
   ],
   "outputs": [
    {
     "output_type": "display_data",
     "data": {
      "text/plain": [
       "<Figure size 432x288 with 2 Axes>"
      ],
      "image/png": "[encoded data removed]"
     },
     "metadata": {
      "needs_background": "light"
     }
    }
   ],
   "metadata": {}
  },
  {
   "cell_type": "markdown",
   "source": [
    "# Construct the measurement operators and simulated data (without any noise)"
   ],
   "metadata": {}
  },
  {
   "cell_type": "code",
   "execution_count": 18,
   "source": [
    "X, Y = np.meshgrid(xvec, yvec)\n",
    "betas = (X + 1j*Y).ravel()\n",
    "m_ops = [(1/np.pi)*coherent_dm(hilbert_size, beta) for beta in betas]\n",
    "\n",
    "data = expect(m_ops, psi)"
   ],
   "outputs": [],
   "metadata": {}
  },
  {
   "cell_type": "code",
   "execution_count": 19,
   "source": [
    "# Test if the expectation value of the measurement operators matches the Husimi Q function\n",
    "np.testing.assert_array_almost_equal(data, q.ravel())"
   ],
   "outputs": [],
   "metadata": {}
  },
  {
   "cell_type": "markdown",
   "source": [
    "# Setup the inputs to the neural network - measurement ops and data\n",
    "\n",
    "We need to convert the QuTiP qunatum objects to TensorFlow objects in order to feed them to the neural network.\n",
    "We take 1024 operators (32 x 32 grid of complex $\\beta$ values in the phase space). Each operator is a complex matrix\n",
    "of size 32 x 32 since we choose a Hilbert space cutoff of 32. \n",
    "\n",
    "Once we convert the measurement operators to a TensorFlow complex tensor, we further separate the real and imaginary parts.\n",
    "The measurement operators are therefore input as real matrix with the last dimension as (`2 x ` number of operators). We have 1024 operators and therefore the input to the neural networks is a $1 \\times  32 \\times 32  \\times 2048$ dimensional tensor containing the real and imaginary parts of the all the complex-valued measurement operators."
   ],
   "metadata": {}
  },
  {
   "cell_type": "code",
   "execution_count": 20,
   "source": [
    "ops_numpy = [op.data.toarray() for op in m_ops] # convert the QuTiP Qobj to numpy arrays\n",
    "ops_tf = tf.convert_to_tensor([ops_numpy]) # convert the numpy arrays to complex TensorFlow tensors\n",
    "\n",
    "print(ops_tf.shape, ops_tf.dtype)"
   ],
   "outputs": [
    {
     "output_type": "stream",
     "name": "stdout",
     "text": [
      "(1, 1024, 32, 32) <dtype: 'complex128'>\n"
     ]
    }
   ],
   "metadata": {}
  },
  {
   "cell_type": "code",
   "execution_count": 21,
   "source": [
    "A = convert_to_real_ops(ops_tf) # convert the complex-valued numpy matrices to real-valued TensorFlow tensors\n",
    "print(A.shape, A.dtype)"
   ],
   "outputs": [
    {
     "output_type": "stream",
     "name": "stdout",
     "text": [
      "(1, 32, 32, 2048) <dtype: 'float64'>\n"
     ]
    }
   ],
   "metadata": {}
  },
  {
   "cell_type": "markdown",
   "source": [
    "# Batched expectation values using TensorFlow\n"
   ],
   "metadata": {}
  },
  {
   "cell_type": "code",
   "execution_count": 22,
   "source": [
    "rho = psi*psi.dag() # Density matrix in QuTiP\n",
    "rho_numpy = rho.data.toarray().reshape((1, hilbert_size, hilbert_size)) # Conversion to NumPy array and reshaping into (1, N, N) to allow batching\n",
    "rho_tf = tf.complex(rho_numpy.real, rho_numpy.imag)\n",
    "\n",
    "x = batched_expect(ops_tf, rho_tf)"
   ],
   "outputs": [],
   "metadata": {}
  },
  {
   "cell_type": "markdown",
   "source": [
    "Let us visualize the data obtained by computing expectation values using TensorFlow versions of QuTiP functions"
   ],
   "metadata": {}
  },
  {
   "cell_type": "code",
   "execution_count": 23,
   "source": [
    "im = plt.pcolor(xvec, yvec, x.numpy().reshape((grid, grid)),vmin=0, vmax=np.max(q), cmap=cmap, shading='auto')\n",
    "plt.colorbar(im)\n",
    "plt.xlabel(r\"Re($\\beta$)\")\n",
    "plt.ylabel(r\"Im($\\beta$)\")\n",
    "plt.title(\"Husimi Q function (TensorFlow generated\")\n",
    "plt.show()"
   ],
   "outputs": [
    {
     "output_type": "display_data",
     "data": {
      "text/plain": [
       "<Figure size 432x288 with 2 Axes>"
      ],
      "image/png": "[encoded data removed]"
     },
     "metadata": {
      "needs_background": "light"
     }
    }
   ],
   "metadata": {}
  },
  {
   "cell_type": "markdown",
   "source": [
    "# Training the Conditional Generative Adversarial Network (CGAN)\n",
    "\n",
    "We construct a `Generator` and a `Discriminator` using TensorFlow and train them for state reconstruction in an adversarial fashion. The inputs to the CGAN are the data (`x`) and the measurement operators converted as real matrices `A`. "
   ],
   "metadata": {}
  },
  {
   "cell_type": "code",
   "execution_count": 24,
   "source": [
    "num_measurements = x.shape[-1]\n",
    "print(num_measurements)\n",
    "\n",
    "generator = Generator(hilbert_size, num_measurements, noise=0.) # Specify the number of measurement settings and Gaussian noise\n",
    "discriminator = Discriminator(hilbert_size, num_measurements)"
   ],
   "outputs": [
    {
     "output_type": "stream",
     "name": "stdout",
     "text": [
      "1024\n"
     ]
    }
   ],
   "metadata": {}
  },
  {
   "cell_type": "markdown",
   "source": [
    "## Generator"
   ],
   "metadata": {}
  },
  {
   "cell_type": "code",
   "execution_count": 25,
   "source": [
    "generator.summary()"
   ],
   "outputs": [
    {
     "output_type": "stream",
     "name": "stdout",
     "text": [
      "Model: \"model_4\"\n",
      "__________________________________________________________________________________________________\n",
      "Layer (type)                    Output Shape         Param #     Connected to                     \n",
      "==================================================================================================\n",
      "inputs (InputLayer)             [(None, 1024)]       0                                            \n",
      "__________________________________________________________________________________________________\n",
      "dense_5 (Dense)                 (None, 512)          524288      inputs[0][0]                     \n",
      "__________________________________________________________________________________________________\n",
      "leaky_re_lu_5 (LeakyReLU)       (None, 512)          0           dense_5[0][0]                    \n",
      "__________________________________________________________________________________________________\n",
      "reshape_1 (Reshape)             (None, 16, 16, 2)    0           leaky_re_lu_5[0][0]              \n",
      "__________________________________________________________________________________________________\n",
      "conv2d_transpose_4 (Conv2DTrans (None, 32, 32, 64)   2048        reshape_1[0][0]                  \n",
      "__________________________________________________________________________________________________\n",
      "instance_normalization_2 (Insta (None, 32, 32, 64)   128         conv2d_transpose_4[0][0]         \n",
      "__________________________________________________________________________________________________\n",
      "leaky_re_lu_6 (LeakyReLU)       (None, 32, 32, 64)   0           instance_normalization_2[0][0]   \n",
      "__________________________________________________________________________________________________\n",
      "conv2d_transpose_5 (Conv2DTrans (None, 32, 32, 64)   65536       leaky_re_lu_6[0][0]              \n",
      "__________________________________________________________________________________________________\n",
      "instance_normalization_3 (Insta (None, 32, 32, 64)   128         conv2d_transpose_5[0][0]         \n",
      "__________________________________________________________________________________________________\n",
      "operators (InputLayer)          [(None, 32, 32, 2048 0                                            \n",
      "__________________________________________________________________________________________________\n",
      "leaky_re_lu_7 (LeakyReLU)       (None, 32, 32, 64)   0           instance_normalization_3[0][0]   \n",
      "__________________________________________________________________________________________________\n",
      "tf.__operators__.getitem_2 (Sli (None, 32, 32, 1024) 0           operators[0][0]                  \n",
      "__________________________________________________________________________________________________\n",
      "tf.__operators__.getitem_3 (Sli (None, 32, 32, 1024) 0           operators[0][0]                  \n",
      "__________________________________________________________________________________________________\n",
      "conv2d_transpose_6 (Conv2DTrans (None, 32, 32, 32)   32768       leaky_re_lu_7[0][0]              \n",
      "__________________________________________________________________________________________________\n",
      "tf.dtypes.complex_1 (TFOpLambda (None, 32, 32, 1024) 0           tf.__operators__.getitem_2[0][0] \n",
      "                                                                 tf.__operators__.getitem_3[0][0] \n",
      "__________________________________________________________________________________________________\n",
      "conv2d_transpose_7 (Conv2DTrans (None, 32, 32, 2)    1024        conv2d_transpose_6[0][0]         \n",
      "__________________________________________________________________________________________________\n",
      "tf.compat.v1.transpose_1 (TFOpL (None, 1024, 32, 32) 0           tf.dtypes.complex_1[0][0]        \n",
      "__________________________________________________________________________________________________\n",
      "density_matrix_1 (DensityMatrix (None, 32, 32)       0           conv2d_transpose_7[0][0]         \n",
      "__________________________________________________________________________________________________\n",
      "expectation_1 (Expectation)     (None, 1024)         0           tf.compat.v1.transpose_1[0][0]   \n",
      "                                                                 density_matrix_1[0][0]           \n",
      "__________________________________________________________________________________________________\n",
      "gaussian_noise_1 (GaussianNoise (None, 1024)         0           expectation_1[0][0]              \n",
      "==================================================================================================\n",
      "Total params: 625,920\n",
      "Trainable params: 625,920\n",
      "Non-trainable params: 0\n",
      "__________________________________________________________________________________________________\n"
     ]
    }
   ],
   "metadata": {}
  },
  {
   "cell_type": "markdown",
   "source": [
    "## Discriminator"
   ],
   "metadata": {}
  },
  {
   "cell_type": "code",
   "execution_count": 26,
   "source": [
    "print(discriminator.summary())"
   ],
   "outputs": [
    {
     "output_type": "stream",
     "name": "stdout",
     "text": [
      "Model: \"model_5\"\n",
      "__________________________________________________________________________________________________\n",
      "Layer (type)                    Output Shape         Param #     Connected to                     \n",
      "==================================================================================================\n",
      "input_image (InputLayer)        [(None, 1024)]       0                                            \n",
      "__________________________________________________________________________________________________\n",
      "target_image (InputLayer)       [(None, 1024)]       0                                            \n",
      "__________________________________________________________________________________________________\n",
      "concatenate_1 (Concatenate)     (None, 2048)         0           input_image[0][0]                \n",
      "                                                                 target_image[0][0]               \n",
      "__________________________________________________________________________________________________\n",
      "dense_6 (Dense)                 (None, 128)          262272      concatenate_1[0][0]              \n",
      "__________________________________________________________________________________________________\n",
      "leaky_re_lu_8 (LeakyReLU)       (None, 128)          0           dense_6[0][0]                    \n",
      "__________________________________________________________________________________________________\n",
      "dense_7 (Dense)                 (None, 128)          16512       leaky_re_lu_8[0][0]              \n",
      "__________________________________________________________________________________________________\n",
      "leaky_re_lu_9 (LeakyReLU)       (None, 128)          0           dense_7[0][0]                    \n",
      "__________________________________________________________________________________________________\n",
      "dense_8 (Dense)                 (None, 64)           8256        leaky_re_lu_9[0][0]              \n",
      "__________________________________________________________________________________________________\n",
      "operators (InputLayer)          [(None, 32, 32, 2048 0                                            \n",
      "__________________________________________________________________________________________________\n",
      "dense_9 (Dense)                 (None, 64)           4160        dense_8[0][0]                    \n",
      "==================================================================================================\n",
      "Total params: 291,200\n",
      "Trainable params: 291,200\n",
      "Non-trainable params: 0\n",
      "__________________________________________________________________________________________________\n",
      "None\n"
     ]
    }
   ],
   "metadata": {}
  },
  {
   "cell_type": "markdown",
   "source": [
    "# Training\n",
    "\n",
    "We train the networks using TensorFlow optimizers and record the loss function as well as intermediate density matrices during training. In order to get the intermediate density matrices, we construct a `density matrix` model called `model_dm` model that outputs the density matrix using the generator."
   ],
   "metadata": {}
  },
  {
   "cell_type": "code",
   "execution_count": 15,
   "source": [
    "density_layer_idx = None\n",
    "\n",
    "for i, layer in enumerate(generator.layers):\n",
    "    if \"density_matrix\" in layer._name:\n",
    "        density_layer_idx = i\n",
    "        break\n",
    "\n",
    "print(density_layer_idx)\n",
    "model_dm = tf.keras.Model(inputs=generator.input, outputs=generator.layers[density_layer_idx].output)\n",
    "\n",
    "@dataclass\n",
    "class LossHistory:\n",
    "    \"\"\"Class for keeping track of loss\"\"\"\n",
    "    generator: list\n",
    "    discriminator: list\n",
    "    l1: list\n",
    "\n",
    "loss = LossHistory([], [], [])\n",
    "fidelities = []"
   ],
   "outputs": [
    {
     "output_type": "stream",
     "name": "stdout",
     "text": [
      "17\n"
     ]
    }
   ],
   "metadata": {}
  },
  {
   "cell_type": "code",
   "execution_count": 13,
   "source": [
    "initial_learning_rate = 0.002\n",
    "\n",
    "lr_schedule = tf.keras.optimizers.schedules.InverseTimeDecay(initial_learning_rate,\n",
    "                                                             decay_steps=100,\n",
    "                                                             decay_rate=.96,\n",
    "                                                             staircase=False)\n",
    "\n",
    "lam = 100.\n",
    "\n",
    "generator_optimizer = tf.keras.optimizers.Adam(lr_schedule, 0.5, 0.5)\n",
    "discriminator_optimizer = tf.keras.optimizers.Adam(lr_schedule, 0.5, 0.5)\n",
    "\n",
    "max_iterations = 10000\n"
   ],
   "outputs": [],
   "metadata": {}
  },
  {
   "cell_type": "code",
   "execution_count": 14,
   "source": [
    "def train_step(A, x):\n",
    "    with tf.GradientTape() as gen_tape, tf.GradientTape() as disc_tape:\n",
    "        gen_output = generator([A, x], training=True)\n",
    "\n",
    "        disc_real_output = discriminator([A, x, x], training=True)\n",
    "        disc_generated_output = discriminator([A, x, gen_output], training=True)\n",
    "\n",
    "        gen_total_loss, gen_gan_loss, gen_l1_loss = generator_loss(\n",
    "            disc_generated_output, gen_output, x, LAMBDA=lam\n",
    "        )\n",
    "        disc_loss = discriminator_loss(disc_real_output, disc_generated_output)\n",
    "\n",
    "    generator_gradients = gen_tape.gradient(\n",
    "        gen_total_loss, generator.trainable_variables\n",
    "    )\n",
    "    discriminator_gradients = disc_tape.gradient(\n",
    "        disc_loss, discriminator.trainable_variables\n",
    "    )\n",
    "\n",
    "    generator_optimizer.apply_gradients(\n",
    "        zip(generator_gradients, generator.trainable_variables)\n",
    "    )\n",
    "    discriminator_optimizer.apply_gradients(\n",
    "        zip(discriminator_gradients, discriminator.trainable_variables)\n",
    "    )\n",
    "\n",
    "    loss.generator.append(gen_gan_loss)\n",
    "    loss.l1.append(gen_l1_loss)\n",
    "    loss.discriminator.append(disc_loss)\n",
    "\n",
    "\n",
    "pbar = tqdm(range(max_iterations))\n",
    "for i in pbar:\n",
    "    train_step(A, x)\n",
    "    density_matrix = model_dm([A, x])\n",
    "    f = tf_fidelity(density_matrix, rho_tf)[-1]\n",
    "    fidelities.append(f)\n",
    "    pbar.set_description(\"Fidelity {} | Gen loss {} | L1 loss {} | Disc loss {}\".format(f, loss.generator[-1], loss.l1[-1], loss.discriminator[-1]))"
   ],
   "outputs": [
    {
     "output_type": "stream",
     "name": "stderr",
     "text": [
      "Fidelity 0.9970216285905102 | Gen loss 0.6931471824645996 | L1 loss 2.5255814240760223e-05 | Disc loss 1.3862943649291992: 100%|██████████| 10000/10000 [34:06<00:00,  4.89it/s]\n"
     ]
    }
   ],
   "metadata": {}
  },
  {
   "cell_type": "code",
   "execution_count": 24,
   "source": [
    "iterations = np.arange(len(fidelities))\n",
    "plt.plot(iterations, fidelities, color=\"red\", label=\"QST-CGAN\")\n",
    "plt.xlabel(\"Iterations\")\n",
    "plt.ylabel(\"Fidelity\")\n",
    "plt.ylim(0, 1.02)\n",
    "plt.grid(which='minor', alpha=0.2)\n",
    "plt.grid(which='major', alpha=0.2)\n",
    "plt.xscale('log')\n",
    "plt.show()"
   ],
   "outputs": [
    {
     "output_type": "display_data",
     "data": {
      "text/plain": [
       "<Figure size 432x288 with 1 Axes>"
      ],
      "image/png": "[encoded data removed]"
     },
     "metadata": {
      "needs_background": "light"
     }
    }
   ],
   "metadata": {}
  },
  {
   "cell_type": "code",
   "execution_count": null,
   "source": [],
   "outputs": [],
   "metadata": {}
  }
 ],
 "metadata": {
  "interpreter": {
   "hash": "2233be6a3956c874a48c6fd5b87bf8a1e6d820c7a8b203922feb36e9920695d6"
  },
  "kernelspec": {
   "display_name": "Python 3.9.5 64-bit ('qstcgan': conda)",
   "name": "python3"
  },
  "language_info": {
   "codemirror_mode": {
    "name": "ipython",
    "version": 3
   },
   "file_extension": ".py",
   "mimetype": "text/x-python",
   "name": "python",
   "nbconvert_exporter": "python",
   "pygments_lexer": "ipython3",
   "version": "3.9.5"
  },
  "orig_nbformat": 4
 },
 "nbformat": 4,
 "nbformat_minor": 2
}