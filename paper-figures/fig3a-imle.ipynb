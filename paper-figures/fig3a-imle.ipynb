{
 "cells": [
  {
   "cell_type": "markdown",
   "metadata": {},
   "source": [
    "# iMLE performance\n",
    "\n",
    "Reconstructing the `cat` state from measurements of the Husimi Q function. The cat state is defined as:\n",
    "\n",
    "$$|\\psi_{\\text{cat}} \\rangle = \\frac{1}{\\mathcal N} ( |\\alpha \\rangle + |-\\alpha \\rangle \\big ) $$\n",
    "\n",
    "with $\\alpha=2$ and normalization $\\mathcal N$.\n",
    "\n",
    "## Husimi Q function measurements\n",
    "\n",
    "The Husimi Q function can be obtained by calculating the expectation value of measuring the following operator:\n",
    "\n",
    "$$\\mathcal O_i = \\frac{1}{\\pi}|\\beta_i \\rangle \\langle \\beta_i|$$\n",
    "\n",
    "where $|\\beta_i \\rangle $ are coherent states written in the Fock basis.\n"
   ]
  },
  {
   "cell_type": "code",
   "execution_count": 1,
   "metadata": {},
   "outputs": [],
   "source": [
    "import numpy as np\n",
    "\n",
    "from qutip import coherent, coherent_dm, expect, Qobj, fidelity, rand_dm\n",
    "from qutip.wigner import wigner, qfunc\n",
    "\n",
    "import tensorflow as tf\n",
    "\n",
    "from tqdm.auto import tqdm\n",
    "\n",
    "import matplotlib\n",
    "import matplotlib.pyplot as plt\n",
    "from mpl_toolkits.axes_grid1.inset_locator import inset_axes"
   ]
  },
  {
   "cell_type": "code",
   "execution_count": 2,
   "metadata": {},
   "outputs": [
    {
     "data": {
      "image/png": "[encoded data removed]",
      "text/plain": [
       "<Figure size 432x288 with 2 Axes>"
      ]
     },
     "metadata": {
      "needs_background": "light"
     },
     "output_type": "display_data"
    }
   ],
   "source": [
    "hilbert_size = 32\n",
    "alpha = 2\n",
    "\n",
    "psi = coherent(hilbert_size, alpha) + coherent(hilbert_size, -alpha)\n",
    "psi = psi.unit() # The .unit() function normalizes the state to have unit trace\n",
    "\n",
    "grid = 32\n",
    "xvec = np.linspace(-3, 3, grid)\n",
    "yvec = np.linspace(-3, 3, grid)\n",
    "\n",
    "q = qfunc(psi, xvec, yvec, g=2)\n",
    "\n",
    "cmap = \"Blues\"\n",
    "im = plt.pcolor(xvec, yvec, q, vmin=0, vmax=np.max(q), cmap=cmap, shading='auto')\n",
    "plt.colorbar(im)\n",
    "plt.xlabel(r\"Re($\\beta$)\")\n",
    "plt.ylabel(r\"Im($\\beta$)\")\n",
    "plt.title(\"Husimi Q function\")\n",
    "plt.show()"
   ]
  },
  {
   "cell_type": "markdown",
   "metadata": {},
   "source": [
    "# Construct the measurement operators and simulated data (without any noise)"
   ]
  },
  {
   "cell_type": "code",
   "execution_count": 3,
   "metadata": {},
   "outputs": [],
   "source": [
    "X, Y = np.meshgrid(xvec, yvec)\n",
    "betas = (X + 1j*Y).ravel()\n",
    "m_ops = [coherent_dm(hilbert_size, beta) for beta in betas]\n",
    "ops_numpy = [op.full() for op in m_ops]\n",
    "\n",
    "data = expect(m_ops, psi)\n",
    "rho_true = psi*psi.dag()"
   ]
  },
  {
   "cell_type": "markdown",
   "metadata": {},
   "source": [
    "# Iterative maximum likelihood estimation"
   ]
  },
  {
   "cell_type": "code",
   "execution_count": 4,
   "metadata": {},
   "outputs": [
    {
     "name": "stderr",
     "output_type": "stream",
     "text": [
      "Fidelity iMLE 0.9911: 100%|██████████| 10000/10000 [06:08<00:00, 29.70it/s]"
     ]
    }
   ],
   "source": [
    "fidelities = []\n",
    "max_iterations = 10000\n",
    "\n",
    "rho = rand_dm(hilbert_size, 0.8)\n",
    "fidelities.append(fidelity(rho_true, rho))\n",
    "pbar = tqdm(range(max_iterations))\n",
    "\n",
    "\n",
    "for i in range(max_iterations):\n",
    "    guessed_val = expect(m_ops, rho)\n",
    "    ratio = data / guessed_val\n",
    "\n",
    "    R = Qobj(np.einsum(\"aij,a->ij\", ops_numpy, ratio))\n",
    "    rho = R * rho * R\n",
    "    rho = rho / rho.tr()\n",
    "\n",
    "    f = fidelity(rho, rho_true)\n",
    "    fidelities.append(f)\n",
    "\n",
    "    pbar.set_description(\"Fidelity iMLE {:.4f}\".format(f))\n",
    "    pbar.update()"
   ]
  },
  {
   "cell_type": "code",
   "execution_count": 5,
   "metadata": {},
   "outputs": [
    {
     "data": {
      "image/png": "[encoded data removed]",
      "text/plain": [
       "<Figure size 432x288 with 1 Axes>"
      ]
     },
     "metadata": {
      "needs_background": "light"
     },
     "output_type": "display_data"
    },
    {
     "name": "stderr",
     "output_type": "stream",
     "text": [
      "Fidelity iMLE 0.9911: 100%|██████████| 10000/10000 [06:20<00:00, 29.70it/s]"
     ]
    }
   ],
   "source": [
    "iterations = np.arange(len(fidelities))\n",
    "plt.plot(iterations, fidelities, color=\"blue\", label=\"iMLE\")\n",
    "plt.legend()\n",
    "plt.xlabel(\"Iterations\")\n",
    "plt.ylabel(\"Fidelity\")\n",
    "plt.ylim(0, 1.02)\n",
    "plt.grid(which='minor', alpha=0.2)\n",
    "plt.grid(which='major', alpha=0.2)\n",
    "plt.xscale('log')\n",
    "plt.show()"
   ]
  },
  {
   "cell_type": "code",
   "execution_count": null,
   "metadata": {},
   "outputs": [],
   "source": []
  }
 ],
 "metadata": {
  "interpreter": {
   "hash": "2233be6a3956c874a48c6fd5b87bf8a1e6d820c7a8b203922feb36e9920695d6"
  },
  "kernelspec": {
   "display_name": "Python 3.9.5 64-bit ('qstcgan': conda)",
   "name": "python3"
  },
  "language_info": {
   "codemirror_mode": {
    "name": "ipython",
    "version": 3
   },
   "file_extension": ".py",
   "mimetype": "text/x-python",
   "name": "python",
   "nbconvert_exporter": "python",
   "pygments_lexer": "ipython3",
   "version": "3.9.5"
  },
  "orig_nbformat": 4
 },
 "nbformat": 4,
 "nbformat_minor": 2
}