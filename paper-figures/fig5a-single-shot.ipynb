{
 "cells": [
  {
   "cell_type": "markdown",
   "source": [
    "# Reconstructing cat states with a single shot\n",
    "\n",
    "We reconstruct the density matrix of the family of bosonic `cat` codes with a\n",
    "single evaluation of a pre-trained CGAN. The definition of the `cat` states is\n",
    "taken from [Albert et al., 2018](https://www.doi.org/10.1103/PhysRevA.97.032346).\n"
   ],
   "metadata": {}
  },
  {
   "cell_type": "code",
   "execution_count": 124,
   "source": [
    "import numpy as np\n",
    "\n",
    "from qutip import expect, displace, fock_dm, coherent, coherent_dm, fidelity, rand_dm\n",
    "from qutip.wigner import wigner\n",
    "from qutip.visualization import plot_wigner_fock_distribution, plot_wigner\n",
    "\n",
    "\n",
    "import tensorflow as tf\n",
    "import tensorflow_addons as tfa\n",
    "\n",
    "\n",
    "from tqdm.auto import tqdm\n",
    "\n",
    "from qst_cgan.ops import convert_to_real_ops, batched_expect, tf_fidelity, dm_to_tf, convert_to_complex_ops, tf_to_dm\n",
    "from qst_cgan.gan import generator_loss, discriminator_loss, Generator, Discriminator, DensityMatrix, Expectation\n",
    "\n",
    "\n",
    "import matplotlib.pyplot as plt\n",
    "from mpl_toolkits.axes_grid1.inset_locator import inset_axes\n",
    "\n",
    "from dataclasses import dataclass\n",
    "\n",
    "import os\n",
    "\n",
    "%load_ext autoreload\n",
    "tf.keras.backend.set_floatx('float64')\n",
    "os.environ[\"CUDA_VISIBLE_DEVICES\"] = \"\""
   ],
   "outputs": [
    {
     "output_type": "stream",
     "name": "stdout",
     "text": [
      "The autoreload extension is already loaded. To reload it, use:\n",
      "  %reload_ext autoreload\n"
     ]
    }
   ],
   "metadata": {}
  },
  {
   "cell_type": "code",
   "execution_count": 125,
   "source": [
    "hilbert_size = 32\n",
    "\n",
    "def cat(N, alpha, S=None, mu=None):\n",
    "    \"\"\"\n",
    "    Generates a cat state. For a detailed discussion on the definition\n",
    "    see `Albert, Victor V. et al. “Performance and Structure of Single-Mode Bosonic Codes.” Physical Review A 97.3 (2018) <https://arxiv.org/abs/1708.05010>`_\n",
    "    and `Ahmed, Shahnawaz et al., “Classification and reconstruction of quantum states with neural networks.” Journal <https://arxiv.org/abs/1708.05010>`_\n",
    "    \n",
    "    Args:\n",
    "    -----\n",
    "        N (int): Hilbert size dimension.\n",
    "        alpha (complex64): Complex number determining the amplitude.\n",
    "        S (int): An integer >= 0 determining the number of coherent states used\n",
    "                 to generate the cat superposition. S = {0, 1, 2, ...}.\n",
    "                 corresponds to {2, 4, 6, ...} coherent state superpositions.\n",
    "        mu (int): An integer 0/1 which generates the logical 0/1 encoding of \n",
    "                  a computational state for the cat state.\n",
    "\n",
    "\n",
    "    Returns:\n",
    "    -------\n",
    "        cat (:class:`qutip.Qobj`): Cat state density matrix\n",
    "    \"\"\"\n",
    "    if S == None:\n",
    "        S = 0\n",
    "\n",
    "    if mu is None:\n",
    "        mu = 0\n",
    "\n",
    "    kend = 2 * S + 1\n",
    "    cstates = 0 * (coherent(N, 0))\n",
    "\n",
    "    for k in range(0, int((kend + 1) / 2)):\n",
    "        sign = 1\n",
    "\n",
    "        if k >= S:\n",
    "            sign = (-1) ** int(mu > 0.5)\n",
    "\n",
    "        prefactor = np.exp(1j * (np.pi / (S + 1)) * k)\n",
    "\n",
    "        cstates += sign * coherent(N, prefactor * alpha * (-((1j) ** mu)))\n",
    "        cstates += sign * coherent(N, -prefactor * alpha * (-((1j) ** mu)))\n",
    "\n",
    "    rho = cstates * cstates.dag()\n",
    "    return rho.unit()\n",
    "\n",
    "\n",
    "rho = cat(hilbert_size, 2, 1, mu=0)\n",
    "plot_wigner_fock_distribution(rho)\n",
    "plt.show()"
   ],
   "outputs": [
    {
     "output_type": "display_data",
     "data": {
      "text/plain": [
       "<Figure size 576x288 with 2 Axes>"
      ],
      "image/png": "[encoded data removed]"
     },
     "metadata": {
      "needs_background": "light"
     }
    }
   ],
   "metadata": {}
  },
  {
   "cell_type": "markdown",
   "source": [
    "# Construct the measurement operators\n"
   ],
   "metadata": {}
  },
  {
   "cell_type": "code",
   "execution_count": 126,
   "source": [
    "def husimi_op(hilbert_size: int, beta: complex):\n",
    "    \"\"\"Computes the operator for a Wigner function measurement\n",
    "\n",
    "    Args:\n",
    "        hilbert_size (int): Hilbert size dimension\n",
    "        beta (complex): Phase space point\n",
    "    \"\"\"\n",
    "    return coherent_dm(hilbert_size, beta)\n",
    "\n",
    "xvec = np.linspace(-5, 5, 32)\n",
    "yvec = np.linspace(-5, 5, 32)\n",
    "\n",
    "X, Y = np.meshgrid(xvec, yvec)\n",
    "betas = (X + 1j*Y).ravel()\n",
    "m_ops = [husimi_op(hilbert_size, beta) for beta in betas]"
   ],
   "outputs": [],
   "metadata": {}
  },
  {
   "cell_type": "markdown",
   "source": [
    "# Setup the inputs to the neural network - measurement ops and data\n",
    "\n",
    "We need to convert the QuTiP qunatum objects to TensorFlow objects in order to feed them to the neural network.\n",
    "We take 1024 operators (32 x 32 grid of complex $\\beta$ values in the phase space). Each operator is a complex matrix\n",
    "of size 32 x 32 since we choose a Hilbert space cutoff of 32. Since for each state we are measuring the same operators,\n",
    "we repeat them for the number of states in each batch, i.e., `batch_size`.\n",
    "\n",
    "Once we convert the measurement operators to a TensorFlow complex tensor, we further separate the real and imaginary parts.\n",
    "The measurement operators are therefore input as real matrix with the last dimension as (`2 x ` number of operators).\n",
    "We have 1024 operators with a batch size of 16 and therefore the input to the neural networks is a\n",
    "$16 \\times  32 \\times 32  \\times 2048$ dimensional tensor containing the real and imaginary parts of the all\n",
    "the complex-valued measurement operators.\n",
    "\n",
    "The other input is the data itself as a $16 \\times 1024$ tensor."
   ],
   "metadata": {}
  },
  {
   "cell_type": "code",
   "execution_count": null,
   "source": [
    "batch_size = 32 # generate 4 states in each round\n",
    "\n",
    "ops = dm_to_tf(m_ops)\n",
    "ops_batch = tf.convert_to_tensor([ops for i in range(batch_size)])\n",
    "A = convert_to_real_ops(ops_batch)"
   ],
   "outputs": [],
   "metadata": {}
  },
  {
   "cell_type": "markdown",
   "source": [
    "# Training the Conditional Generative Adversarial Network (CGAN)\n",
    "\n",
    "We construct a `Generator` and a `Discriminator` using TensorFlow and train them for state reconstruction in an adversarial fashion. The inputs to the CGAN are the data (`x`) and the measurement operators converted as real matrices `A`. We also construct a `model_dm` that shares weights with the generator to predict the density matrix of the state."
   ],
   "metadata": {}
  },
  {
   "cell_type": "code",
   "execution_count": null,
   "source": [
    "num_measurements = 32*32\n",
    "generator = Generator(hilbert_size, num_measurements, noise=0.)\n",
    "discriminator = Discriminator(hilbert_size, num_measurements)\n",
    "\n",
    "# If you have saved checkpoints of the models from before then load as\n",
    "try:\n",
    "    generator.load_weights(\"models/ckpt-generator\")\n",
    "    discriminator.load_weights(\"models/ckpt-discriminator\")\n",
    "except:\n",
    "    pass"
   ],
   "outputs": [],
   "metadata": {}
  },
  {
   "cell_type": "code",
   "execution_count": null,
   "source": [
    "density_layer_idx = None\n",
    "\n",
    "for i, layer in enumerate(generator.layers): \n",
    "    if \"density_matrix\" in layer._name:\n",
    "        density_layer_idx = i\n",
    "        break\n",
    "\n",
    "model_dm = tf.keras.Model(inputs=generator.input,\n",
    "                          outputs=generator.layers[density_layer_idx].output)"
   ],
   "outputs": [],
   "metadata": {}
  },
  {
   "cell_type": "markdown",
   "source": [
    "# Let us make a prediction on a set of randomly generated states"
   ],
   "metadata": {}
  },
  {
   "cell_type": "code",
   "execution_count": null,
   "source": [
    "def random_alpha(radius: float, inner_radius=0):\n",
    "    \"\"\"\n",
    "    Generates a random complex value within a circle.\n",
    "\n",
    "    Args:\n",
    "        radius (float): Radius of the phase space\n",
    "        inner_radius (int, optional): [description]. Inner radius.\n",
    "                                                     Defaults to 0\n",
    "\n",
    "    Returns:\n",
    "        complex: A complex value.\n",
    "    \"\"\"\n",
    "    radius = np.random.uniform(inner_radius, radius)\n",
    "    phi = np.random.uniform(-np.pi, np.pi)\n",
    "    return radius * np.exp(1j * phi)\n",
    "\n",
    "\n",
    "def generate_batch(batch_size: int):\n",
    "    \"\"\"Generates a batch of random cat state density matrices\n",
    "\n",
    "    Args:\n",
    "        batch_size (int): Batch size\n",
    "\n",
    "    Yields:\n",
    "        [list of Qobj]: A list of density matrices\n",
    "    \"\"\"\n",
    "    rhos = []\n",
    "\n",
    "    for i in range(batch_size):\n",
    "        alpha = random_alpha(1, 3)\n",
    "        \n",
    "        S = np.random.randint(0, 4)\n",
    "        rho = cat(hilbert_size, alpha=alpha, S=S)\n",
    "        rhos.append(rho)\n",
    "\n",
    "    yield rhos"
   ],
   "outputs": [],
   "metadata": {}
  },
  {
   "cell_type": "code",
   "execution_count": null,
   "source": [
    "def show_comparision(predicted_rho:list, rho_true:list):\n",
    "    \"\"\"Plot a comparision between predictions and true density matrices\n",
    "\n",
    "    Args:\n",
    "        predicted_rho (list): List of predicted density matrices\n",
    "        rho_true (list): True density matrix.\n",
    "    \"\"\"\n",
    "    num_examples = len(predicted_rho)\n",
    "\n",
    "    fig, grid = plt.subplots(2, num_examples,\n",
    "                  figsize=((6/4)*num_examples, 2.8), sharex=True, sharey=True)\n",
    "\n",
    "    for i in range(num_examples):\n",
    "        plot_wigner(predicted_rho[i], ax=grid[0, i])\n",
    "        plot_wigner(rho_true[i], ax=grid[1, i])\n",
    "\n",
    "        grid[0, i].set_title(\"Fidelity {:.2f}\".format(fidelity(rho_true[i], predicted_rho[i])))\n",
    "        \n",
    "        if i > 0:\n",
    "            grid[0, i].set_ylabel(\"\")\n",
    "            grid[0, i].set_xlabel(\"\")\n",
    "        grid[0, 0].set_xlabel(\"\")            \n",
    "        if i > 0:\n",
    "            grid[1, i].set_ylabel(\"\")\n",
    "            grid[1, i].set_title(\"\")\n",
    "        grid[1, 0].set_title(\"\")\n",
    "    plt.show()\n",
    "\n",
    "\n",
    "for rhos in generate_batch(batch_size):\n",
    "    rho_tf = dm_to_tf(rhos)\n",
    "    x = batched_expect(ops_batch, rho_tf)\n",
    "    pred_dm = tf_to_dm(model_dm([A, x]))"
   ],
   "outputs": [],
   "metadata": {}
  },
  {
   "cell_type": "code",
   "execution_count": null,
   "source": [
    "show_comparision(pred_dm[:4], rhos[:4])"
   ],
   "outputs": [
    {
     "output_type": "display_data",
     "data": {
      "text/plain": [
       "<Figure size 432x201.6 with 8 Axes>"
      ],
      "image/png": "[encoded data removed]"
     },
     "metadata": {
      "needs_background": "light"
     }
    }
   ],
   "metadata": {}
  },
  {
   "cell_type": "markdown",
   "source": [
    "# Training\n",
    "\n",
    "We train the networks using TensorFlow optimizers and record the loss function as well as intermediate density matrices during training. In order to get the intermediate density matrices, we construct a `density matrix` model called `model_dm` model that outputs the density matrix using the generator."
   ],
   "metadata": {}
  },
  {
   "cell_type": "code",
   "execution_count": null,
   "source": [
    "generator_optimizer = tf.keras.optimizers.Adam(0.0002, 0.5, 0.5)\n",
    "discriminator_optimizer = tf.keras.optimizers.Adam(0.0002, 0.5, 0.5)\n",
    "\n",
    "lam = 100."
   ],
   "outputs": [],
   "metadata": {}
  },
  {
   "cell_type": "markdown",
   "source": [
    "# Reconstruction using QST-CGAN\n",
    "\n",
    "Note that we are comparing fidelity to the ideal state which is clearly going \n",
    "to be rather poor sin"
   ],
   "metadata": {}
  },
  {
   "cell_type": "code",
   "execution_count": null,
   "source": [
    "def train_step(A, x):\n",
    "    \"\"\"Takes one step of training for the full A matrix representing the\n",
    "    measurement operators and data x.\n",
    "\n",
    "    Note that the `generator`, `discriminator`, `generator_optimizer` and the\n",
    "    `discriminator_optimizer` has to be defined before calling this function.\n",
    "\n",
    "    Args:\n",
    "        A (tf.Tensor): A tensor of shape (m, hilbert_size, hilbert_size, n x 2)\n",
    "                       where m=1 for a single reconstruction, and n represents\n",
    "                       the number of measured operators. We split the complex\n",
    "                       operators as real and imaginary in the last axis. The \n",
    "                       helper function `convert_to_real_ops` can be used to\n",
    "                       generate the matrix A with a set of complex operators\n",
    "                       given by `ops` with shape (1, n, hilbert_size, hilbert_size)\n",
    "                       by calling `A = convert_to_real_ops(ops)`.\n",
    "\n",
    "        x (tf.Tensor): A tensor of shape (m, n) with m=1 for a single\n",
    "                       reconstruction and `n` representing the number of\n",
    "                       measurements. \n",
    "    \"\"\"\n",
    "    with tf.GradientTape() as gen_tape, tf.GradientTape() as disc_tape:\n",
    "        gen_output = generator([A, x], training=True)\n",
    "\n",
    "        disc_real_output = discriminator([A, x, x], training=True)\n",
    "        disc_generated_output = discriminator([A, x, gen_output], training=True)\n",
    "\n",
    "        gen_total_loss, gen_gan_loss, gen_l1_loss = generator_loss(disc_generated_output, gen_output, x,\n",
    "            lam=lam)\n",
    "        disc_loss = discriminator_loss(disc_real_output, disc_generated_output)\n",
    "\n",
    "    generator_gradients = gen_tape.gradient(gen_total_loss,\n",
    "                                          generator.trainable_variables)\n",
    "    discriminator_gradients = disc_tape.gradient(disc_loss,\n",
    "                                               discriminator.trainable_variables)\n",
    "\n",
    "    slopes = tf.convert_to_tensor([tf.sqrt(tf.reduce_sum(s**2)) for s in discriminator_gradients])\n",
    "    gradient_penalty = tf.reduce_mean((slopes-1.)**2)\n",
    "\n",
    "    with tf.GradientTape() as gen_tape, tf.GradientTape() as disc_tape:\n",
    "        gen_output = generator([A, x], training=True)\n",
    "\n",
    "        disc_real_output = discriminator([A, x, x], training=True)\n",
    "        disc_generated_output = discriminator([A, x, gen_output], training=True)\n",
    "\n",
    "        gen_total_loss, gen_gan_loss, gen_l1_loss = generator_loss(disc_generated_output, gen_output, x,\n",
    "            lam=lam)\n",
    "        disc_loss = discriminator_loss(disc_real_output, disc_generated_output) + 100*gradient_penalty\n",
    "\n",
    "    generator_gradients = gen_tape.gradient(gen_total_loss,\n",
    "                                          generator.trainable_variables)\n",
    "    discriminator_gradients = disc_tape.gradient(disc_loss,\n",
    "                                               discriminator.trainable_variables)\n",
    "\n",
    "\n",
    "    generator_optimizer.apply_gradients(zip(generator_gradients,\n",
    "                                          generator.trainable_variables))\n",
    "    discriminator_optimizer.apply_gradients(zip(discriminator_gradients,\n",
    "                                              discriminator.trainable_variables))\n",
    "\n",
    "max_iterations = 10000\n",
    "pbar = tqdm(range(max_iterations))\n",
    "log_interval = 10\n",
    "\n",
    "for i in pbar:\n",
    "    for rhos in generate_batch(batch_size):\n",
    "        rho_tf = dm_to_tf(rhos)\n",
    "        x = batched_expect(ops_batch, rho_tf)\n",
    "        train_step(A, x)\n",
    "\n",
    "    if i % log_interval == 0:\n",
    "        generator.save_weights(\"models/ckpt-generator\")\n",
    "        discriminator.save_weights(\"models/ckpt-discriminator\")\n",
    "\n",
    "        for rhos in generate_batch(batch_size):\n",
    "            rho_tf = dm_to_tf(rhos)\n",
    "            x = batched_expect(ops_batch, rho_tf)\n",
    "            pred_dm = tf_to_dm(model_dm([A, x]))\n",
    "            mean_fidelity = np.mean([fidelity(p, r) for (p, r) in zip(rhos, pred_dm)])\n",
    "            pbar.set_description(\"Mean batch fidelity {}\".format(mean_fidelity))"
   ],
   "outputs": [
    {
     "output_type": "stream",
     "name": "stderr",
     "text": [
      "Mean F 0.6210383067615786:   1%|          | 74/10000 [01:08<2:32:40,  1.08it/s]\n"
     ]
    },
    {
     "output_type": "error",
     "ename": "KeyboardInterrupt",
     "evalue": "",
     "traceback": [
      "\u001b[0;31m---------------------------------------------------------------------------\u001b[0m",
      "\u001b[0;31mKeyboardInterrupt\u001b[0m                         Traceback (most recent call last)",
      "\u001b[0;32m<ipython-input-122-abd78a20b730>\u001b[0m in \u001b[0;36m<module>\u001b[0;34m\u001b[0m\n\u001b[1;32m     67\u001b[0m         \u001b[0mrho_tf\u001b[0m \u001b[0;34m=\u001b[0m \u001b[0mdm_to_tf\u001b[0m\u001b[0;34m(\u001b[0m\u001b[0mrhos\u001b[0m\u001b[0;34m)\u001b[0m\u001b[0;34m\u001b[0m\u001b[0;34m\u001b[0m\u001b[0m\n\u001b[1;32m     68\u001b[0m         \u001b[0mx\u001b[0m \u001b[0;34m=\u001b[0m \u001b[0mbatched_expect\u001b[0m\u001b[0;34m(\u001b[0m\u001b[0mops_batch\u001b[0m\u001b[0;34m,\u001b[0m \u001b[0mrho_tf\u001b[0m\u001b[0;34m)\u001b[0m\u001b[0;34m\u001b[0m\u001b[0;34m\u001b[0m\u001b[0m\n\u001b[0;32m---> 69\u001b[0;31m         \u001b[0mtrain_step\u001b[0m\u001b[0;34m(\u001b[0m\u001b[0mA\u001b[0m\u001b[0;34m,\u001b[0m \u001b[0mx\u001b[0m\u001b[0;34m)\u001b[0m\u001b[0;34m\u001b[0m\u001b[0;34m\u001b[0m\u001b[0m\n\u001b[0m\u001b[1;32m     70\u001b[0m \u001b[0;34m\u001b[0m\u001b[0m\n\u001b[1;32m     71\u001b[0m     \u001b[0;32mif\u001b[0m \u001b[0mi\u001b[0m \u001b[0;34m%\u001b[0m \u001b[0mlog_interval\u001b[0m \u001b[0;34m==\u001b[0m \u001b[0;36m0\u001b[0m\u001b[0;34m:\u001b[0m\u001b[0;34m\u001b[0m\u001b[0;34m\u001b[0m\u001b[0m\n",
      "\u001b[0;32m<ipython-input-122-abd78a20b730>\u001b[0m in \u001b[0;36mtrain_step\u001b[0;34m(A, x)\u001b[0m\n\u001b[1;32m     33\u001b[0m                                           generator.trainable_variables)\n\u001b[1;32m     34\u001b[0m     discriminator_gradients = disc_tape.gradient(disc_loss,\n\u001b[0;32m---> 35\u001b[0;31m                                                discriminator.trainable_variables)\n\u001b[0m\u001b[1;32m     36\u001b[0m \u001b[0;34m\u001b[0m\u001b[0m\n\u001b[1;32m     37\u001b[0m     \u001b[0mslopes\u001b[0m \u001b[0;34m=\u001b[0m \u001b[0mtf\u001b[0m\u001b[0;34m.\u001b[0m\u001b[0mconvert_to_tensor\u001b[0m\u001b[0;34m(\u001b[0m\u001b[0;34m[\u001b[0m\u001b[0mtf\u001b[0m\u001b[0;34m.\u001b[0m\u001b[0msqrt\u001b[0m\u001b[0;34m(\u001b[0m\u001b[0mtf\u001b[0m\u001b[0;34m.\u001b[0m\u001b[0mreduce_sum\u001b[0m\u001b[0;34m(\u001b[0m\u001b[0ms\u001b[0m\u001b[0;34m**\u001b[0m\u001b[0;36m2\u001b[0m\u001b[0;34m)\u001b[0m\u001b[0;34m)\u001b[0m \u001b[0;32mfor\u001b[0m \u001b[0ms\u001b[0m \u001b[0;32min\u001b[0m \u001b[0mdiscriminator_gradients\u001b[0m\u001b[0;34m]\u001b[0m\u001b[0;34m)\u001b[0m\u001b[0;34m\u001b[0m\u001b[0;34m\u001b[0m\u001b[0m\n",
      "\u001b[0;32m~/miniconda3/envs/qstcgan/lib/python3.7/site-packages/tensorflow/python/eager/backprop.py\u001b[0m in \u001b[0;36mgradient\u001b[0;34m(self, target, sources, output_gradients, unconnected_gradients)\u001b[0m\n\u001b[1;32m   1078\u001b[0m         \u001b[0moutput_gradients\u001b[0m\u001b[0;34m=\u001b[0m\u001b[0moutput_gradients\u001b[0m\u001b[0;34m,\u001b[0m\u001b[0;34m\u001b[0m\u001b[0;34m\u001b[0m\u001b[0m\n\u001b[1;32m   1079\u001b[0m         \u001b[0msources_raw\u001b[0m\u001b[0;34m=\u001b[0m\u001b[0mflat_sources_raw\u001b[0m\u001b[0;34m,\u001b[0m\u001b[0;34m\u001b[0m\u001b[0;34m\u001b[0m\u001b[0m\n\u001b[0;32m-> 1080\u001b[0;31m         unconnected_gradients=unconnected_gradients)\n\u001b[0m\u001b[1;32m   1081\u001b[0m \u001b[0;34m\u001b[0m\u001b[0m\n\u001b[1;32m   1082\u001b[0m     \u001b[0;32mif\u001b[0m \u001b[0;32mnot\u001b[0m \u001b[0mself\u001b[0m\u001b[0;34m.\u001b[0m\u001b[0m_persistent\u001b[0m\u001b[0;34m:\u001b[0m\u001b[0;34m\u001b[0m\u001b[0;34m\u001b[0m\u001b[0m\n",
      "\u001b[0;32m~/miniconda3/envs/qstcgan/lib/python3.7/site-packages/tensorflow/python/eager/imperative_grad.py\u001b[0m in \u001b[0;36mimperative_grad\u001b[0;34m(tape, target, sources, output_gradients, sources_raw, unconnected_gradients)\u001b[0m\n\u001b[1;32m     75\u001b[0m       \u001b[0moutput_gradients\u001b[0m\u001b[0;34m,\u001b[0m\u001b[0;34m\u001b[0m\u001b[0;34m\u001b[0m\u001b[0m\n\u001b[1;32m     76\u001b[0m       \u001b[0msources_raw\u001b[0m\u001b[0;34m,\u001b[0m\u001b[0;34m\u001b[0m\u001b[0;34m\u001b[0m\u001b[0m\n\u001b[0;32m---> 77\u001b[0;31m       compat.as_str(unconnected_gradients.value))\n\u001b[0m",
      "\u001b[0;32m~/miniconda3/envs/qstcgan/lib/python3.7/site-packages/tensorflow/python/eager/backprop.py\u001b[0m in \u001b[0;36m_gradient_function\u001b[0;34m(op_name, attr_tuple, num_inputs, inputs, outputs, out_grads, skip_input_indices, forward_pass_name_scope)\u001b[0m\n\u001b[1;32m    157\u001b[0m       \u001b[0mgradient_name_scope\u001b[0m \u001b[0;34m+=\u001b[0m \u001b[0mforward_pass_name_scope\u001b[0m \u001b[0;34m+\u001b[0m \u001b[0;34m\"/\"\u001b[0m\u001b[0;34m\u001b[0m\u001b[0;34m\u001b[0m\u001b[0m\n\u001b[1;32m    158\u001b[0m     \u001b[0;32mwith\u001b[0m \u001b[0mops\u001b[0m\u001b[0;34m.\u001b[0m\u001b[0mname_scope\u001b[0m\u001b[0;34m(\u001b[0m\u001b[0mgradient_name_scope\u001b[0m\u001b[0;34m)\u001b[0m\u001b[0;34m:\u001b[0m\u001b[0;34m\u001b[0m\u001b[0;34m\u001b[0m\u001b[0m\n\u001b[0;32m--> 159\u001b[0;31m       \u001b[0;32mreturn\u001b[0m \u001b[0mgrad_fn\u001b[0m\u001b[0;34m(\u001b[0m\u001b[0mmock_op\u001b[0m\u001b[0;34m,\u001b[0m \u001b[0;34m*\u001b[0m\u001b[0mout_grads\u001b[0m\u001b[0;34m)\u001b[0m\u001b[0;34m\u001b[0m\u001b[0;34m\u001b[0m\u001b[0m\n\u001b[0m\u001b[1;32m    160\u001b[0m   \u001b[0;32melse\u001b[0m\u001b[0;34m:\u001b[0m\u001b[0;34m\u001b[0m\u001b[0;34m\u001b[0m\u001b[0m\n\u001b[1;32m    161\u001b[0m     \u001b[0;32mreturn\u001b[0m \u001b[0mgrad_fn\u001b[0m\u001b[0;34m(\u001b[0m\u001b[0mmock_op\u001b[0m\u001b[0;34m,\u001b[0m \u001b[0;34m*\u001b[0m\u001b[0mout_grads\u001b[0m\u001b[0;34m)\u001b[0m\u001b[0;34m\u001b[0m\u001b[0;34m\u001b[0m\u001b[0m\n",
      "\u001b[0;32m~/miniconda3/envs/qstcgan/lib/python3.7/site-packages/tensorflow/python/ops/linalg_grad.py\u001b[0m in \u001b[0;36m_EinsumGrad\u001b[0;34m(op, grad)\u001b[0m\n\u001b[1;32m    339\u001b[0m   \u001b[0mx_shape\u001b[0m \u001b[0;34m=\u001b[0m \u001b[0marray_ops\u001b[0m\u001b[0;34m.\u001b[0m\u001b[0mshape\u001b[0m\u001b[0;34m(\u001b[0m\u001b[0mx\u001b[0m\u001b[0;34m)\u001b[0m\u001b[0;34m\u001b[0m\u001b[0;34m\u001b[0m\u001b[0m\n\u001b[1;32m    340\u001b[0m   \u001b[0my_shape\u001b[0m \u001b[0;34m=\u001b[0m \u001b[0marray_ops\u001b[0m\u001b[0;34m.\u001b[0m\u001b[0mshape\u001b[0m\u001b[0;34m(\u001b[0m\u001b[0my\u001b[0m\u001b[0;34m)\u001b[0m\u001b[0;34m\u001b[0m\u001b[0;34m\u001b[0m\u001b[0m\n\u001b[0;32m--> 341\u001b[0;31m   \u001b[0mgrad_x\u001b[0m \u001b[0;34m=\u001b[0m \u001b[0m_GetGradWrt\u001b[0m\u001b[0;34m(\u001b[0m\u001b[0mgrad\u001b[0m\u001b[0;34m,\u001b[0m \u001b[0my\u001b[0m\u001b[0;34m,\u001b[0m \u001b[0mx_shape\u001b[0m\u001b[0;34m,\u001b[0m \u001b[0mx_subs\u001b[0m\u001b[0;34m,\u001b[0m \u001b[0my_subs\u001b[0m\u001b[0;34m,\u001b[0m \u001b[0moutput_subs\u001b[0m\u001b[0;34m)\u001b[0m\u001b[0;34m\u001b[0m\u001b[0;34m\u001b[0m\u001b[0m\n\u001b[0m\u001b[1;32m    342\u001b[0m   \u001b[0mgrad_y\u001b[0m \u001b[0;34m=\u001b[0m \u001b[0m_GetGradWrt\u001b[0m\u001b[0;34m(\u001b[0m\u001b[0mgrad\u001b[0m\u001b[0;34m,\u001b[0m \u001b[0mx\u001b[0m\u001b[0;34m,\u001b[0m \u001b[0my_shape\u001b[0m\u001b[0;34m,\u001b[0m \u001b[0my_subs\u001b[0m\u001b[0;34m,\u001b[0m \u001b[0mx_subs\u001b[0m\u001b[0;34m,\u001b[0m \u001b[0moutput_subs\u001b[0m\u001b[0;34m)\u001b[0m\u001b[0;34m\u001b[0m\u001b[0;34m\u001b[0m\u001b[0m\n\u001b[1;32m    343\u001b[0m \u001b[0;34m\u001b[0m\u001b[0m\n",
      "\u001b[0;32m~/miniconda3/envs/qstcgan/lib/python3.7/site-packages/tensorflow/python/ops/linalg_grad.py\u001b[0m in \u001b[0;36m_GetGradWrt\u001b[0;34m(output_grad, other_operand, input_shape, input_subs, other_subs, output_subs)\u001b[0m\n\u001b[1;32m    283\u001b[0m                                          \"{},{}->{}\".format(\n\u001b[1;32m    284\u001b[0m                                              \u001b[0moutput_subs\u001b[0m\u001b[0;34m,\u001b[0m \u001b[0mother_subs\u001b[0m\u001b[0;34m,\u001b[0m\u001b[0;34m\u001b[0m\u001b[0;34m\u001b[0m\u001b[0m\n\u001b[0;32m--> 285\u001b[0;31m                                              left_subs))\n\u001b[0m\u001b[1;32m    286\u001b[0m     \u001b[0;31m# If the reduced_label_set is empty, then we already have the gradient\u001b[0m\u001b[0;34m\u001b[0m\u001b[0;34m\u001b[0m\u001b[0;34m\u001b[0m\u001b[0m\n\u001b[1;32m    287\u001b[0m     \u001b[0;31m# wrt the input.\u001b[0m\u001b[0;34m\u001b[0m\u001b[0;34m\u001b[0m\u001b[0;34m\u001b[0m\u001b[0m\n",
      "\u001b[0;32m~/miniconda3/envs/qstcgan/lib/python3.7/site-packages/tensorflow/python/ops/gen_linalg_ops.py\u001b[0m in \u001b[0;36meinsum\u001b[0;34m(inputs, equation, name)\u001b[0m\n\u001b[1;32m   1071\u001b[0m     \u001b[0;32mtry\u001b[0m\u001b[0;34m:\u001b[0m\u001b[0;34m\u001b[0m\u001b[0;34m\u001b[0m\u001b[0m\n\u001b[1;32m   1072\u001b[0m       _result = pywrap_tfe.TFE_Py_FastPathExecute(\n\u001b[0;32m-> 1073\u001b[0;31m         _ctx, \"Einsum\", name, inputs, \"equation\", equation)\n\u001b[0m\u001b[1;32m   1074\u001b[0m       \u001b[0;32mreturn\u001b[0m \u001b[0m_result\u001b[0m\u001b[0;34m\u001b[0m\u001b[0;34m\u001b[0m\u001b[0m\n\u001b[1;32m   1075\u001b[0m     \u001b[0;32mexcept\u001b[0m \u001b[0m_core\u001b[0m\u001b[0;34m.\u001b[0m\u001b[0m_NotOkStatusException\u001b[0m \u001b[0;32mas\u001b[0m \u001b[0me\u001b[0m\u001b[0;34m:\u001b[0m\u001b[0;34m\u001b[0m\u001b[0;34m\u001b[0m\u001b[0m\n",
      "\u001b[0;31mKeyboardInterrupt\u001b[0m: "
     ]
    }
   ],
   "metadata": {}
  },
  {
   "cell_type": "markdown",
   "source": [
    "# Saving and loading model weights from a pre-trained model\n",
    "\n",
    "The training might take a lot of time and therefore we have saved the model weights after intervals of 10 batches. The GPU-verion of TensorFlow might be able to speedup the training greatly but that will require generating the data seperately and saving it to disk for training. This way, we can avoid transferring data back and forth from the CPU (since we use QuTiP to generate the states). \n"
   ],
   "metadata": {}
  },
  {
   "cell_type": "code",
   "execution_count": null,
   "source": [
    "generator.load_weights(\"models/ckpt-generator\")\n",
    "discriminator.load_weights(\"models/ckpt-discriminator\")\n",
    "\n",
    "model_dm = tf.keras.Model(inputs=generator.input,\n",
    "                          outputs=generator.layers[density_layer_idx].output)\n",
    "\n",
    "for rhos in generate_batch(batch_size):\n",
    "    rho_tf = dm_to_tf(rhos)\n",
    "    x = batched_expect(ops_batch, rho_tf)\n",
    "    pred_dm = tf_to_dm(model_dm([A, x]))\n",
    "\n",
    "show_comparision(pred_dm[:4], rhos[:4])"
   ],
   "outputs": [
    {
     "output_type": "display_data",
     "data": {
      "text/plain": [
       "<Figure size 432x201.6 with 8 Axes>"
      ],
      "image/png": "[encoded data removed]"
     },
     "metadata": {
      "needs_background": "light"
     }
    }
   ],
   "metadata": {}
  },
  {
   "cell_type": "markdown",
   "source": [
    "# Predict states for a large number of random cat states"
   ],
   "metadata": {}
  },
  {
   "cell_type": "code",
   "execution_count": null,
   "source": [
    "f_values = []\n",
    "\n",
    "for i in tqdm(range(10)):\n",
    "    for rhos in generate_batch(batch_size):\n",
    "        rho_tf = dm_to_tf(rhos)\n",
    "        x = batched_expect(ops_batch, rho_tf)\n",
    "        pred_dm = tf_to_dm(model_dm([A, x]))\n",
    "\n",
    "        for i in range(len(pred_dm)):\n",
    "            f_values.append(fidelity(pred_dm[i], rhos[i]))"
   ],
   "outputs": [
    {
     "output_type": "stream",
     "name": "stderr",
     "text": [
      "100%|██████████| 10/10 [00:01<00:00,  8.53it/s]\n"
     ]
    }
   ],
   "metadata": {}
  },
  {
   "cell_type": "code",
   "execution_count": null,
   "source": [
    "print(\"Predicted density matrices for {} states\".format(len(f_values)))\n",
    "plt.hist(f_values,\n",
    "             bins=100, color=\"green\",\n",
    "             orientation='horizontal')\n",
    "plt.ylim(0, 1)\n",
    "plt.ylabel(\"Fidelity\", labelpad = -0.1)\n",
    "plt.xlabel(\"# States\", labelpad = -0.1)\n",
    "plt.show()"
   ],
   "outputs": [
    {
     "output_type": "stream",
     "name": "stdout",
     "text": [
      "Predicted density matrices for 40 states\n"
     ]
    },
    {
     "output_type": "display_data",
     "data": {
      "text/plain": [
       "<Figure size 432x288 with 1 Axes>"
      ],
      "image/png": "[encoded data removed]"
     },
     "metadata": {
      "needs_background": "light"
     }
    }
   ],
   "metadata": {}
  },
  {
   "cell_type": "code",
   "execution_count": null,
   "source": [],
   "outputs": [],
   "metadata": {}
  }
 ],
 "metadata": {
  "interpreter": {
   "hash": "2233be6a3956c874a48c6fd5b87bf8a1e6d820c7a8b203922feb36e9920695d6"
  },
  "kernelspec": {
   "display_name": "Python 3.9.5 64-bit ('qstcgan': conda)",
   "name": "python3"
  },
  "language_info": {
   "codemirror_mode": {
    "name": "ipython",
    "version": 3
   },
   "file_extension": ".py",
   "mimetype": "text/x-python",
   "name": "python",
   "nbconvert_exporter": "python",
   "pygments_lexer": "ipython3",
   "version": "3.9.5"
  },
  "orig_nbformat": 4
 },
 "nbformat": 4,
 "nbformat_minor": 2
}