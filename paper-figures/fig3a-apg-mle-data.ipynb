{
 "cells": [
  {
   "cell_type": "markdown",
   "metadata": {},
   "source": [
    "# APG-MLE performance\n",
    "\n",
    "Reconstructing the `cat` state from measurements of the Husimi Q function. The cat state is defined as:\n",
    "\n",
    "$$|\\psi_{\\text{cat}} \\rangle = \\frac{1}{\\mathcal N} ( |\\alpha \\rangle + |-\\alpha \\rangle \\big ) $$\n",
    "\n",
    "with $\\alpha=2$ and normalization $\\mathcal N$.\n",
    "\n",
    "## Husimi Q function measurements\n",
    "\n",
    "The Husimi Q function can be obtained by calculating the expectation value of measuring the following operator:\n",
    "\n",
    "$$\\mathcal O_i = \\frac{1}{\\pi}|\\beta_i \\rangle \\langle \\beta_i|$$\n",
    "\n",
    "where $|\\beta_i \\rangle $ are coherent states written in the Fock basis.\n"
   ]
  },
  {
   "cell_type": "code",
   "execution_count": 49,
   "metadata": {},
   "outputs": [
    {
     "name": "stdout",
     "output_type": "stream",
     "text": [
      "The autoreload extension is already loaded. To reload it, use:\n",
      "  %reload_ext autoreload\n"
     ]
    }
   ],
   "source": [
    "import numpy as np\n",
    "\n",
    "from qutip import coherent, coherent_dm, expect, Qobj, fidelity, rand_dm\n",
    "from qutip.wigner import wigner, qfunc\n",
    "\n",
    "from scipy.io import savemat, loadmat\n",
    "\n",
    "import matplotlib\n",
    "import matplotlib.pyplot as plt\n",
    "from mpl_toolkits.axes_grid1.inset_locator import inset_axes\n",
    "\n",
    "%load_ext autoreload\n",
    "tf.keras.backend.set_floatx('float64') # Set float64 as the default"
   ]
  },
  {
   "cell_type": "code",
   "execution_count": 43,
   "metadata": {},
   "outputs": [
    {
     "data": {
      "image/png": "[encoded data removed]",
      "text/plain": [
       "<Figure size 432x288 with 2 Axes>"
      ]
     },
     "metadata": {
      "needs_background": "light"
     },
     "output_type": "display_data"
    }
   ],
   "source": [
    "hilbert_size = 32\n",
    "alpha = 2\n",
    "\n",
    "psi = coherent(hilbert_size, alpha) + coherent(hilbert_size, -alpha)\n",
    "psi = psi.unit() # The .unit() function normalizes the state to have unit trace\n",
    "rho = psi*psi.dag()\n",
    "\n",
    "grid = 32\n",
    "xvec = np.linspace(-3, 3, grid)\n",
    "yvec = np.linspace(-3, 3, grid)\n",
    "\n",
    "q = qfunc(rho, xvec, yvec, g=2)\n",
    "\n",
    "cmap = \"Blues\"\n",
    "im = plt.pcolor(xvec, yvec, q, vmin=0, vmax=np.max(q), cmap=cmap, shading='auto')\n",
    "plt.colorbar(im)\n",
    "plt.xlabel(r\"Re($\\beta$)\")\n",
    "plt.ylabel(r\"Im($\\beta$)\")\n",
    "plt.title(\"Husimi Q function\")\n",
    "plt.show()"
   ]
  },
  {
   "cell_type": "markdown",
   "metadata": {},
   "source": [
    "# Construct the measurement operators and simulated data (without any noise)"
   ]
  },
  {
   "cell_type": "code",
   "execution_count": 44,
   "metadata": {},
   "outputs": [],
   "source": [
    "X, Y = np.meshgrid(xvec, yvec)\n",
    "betas = (X + 1j*Y).ravel()\n",
    "m_ops = [coherent_dm(hilbert_size, beta) for beta in betas]\n",
    "data = expect(m_ops, rho)"
   ]
  },
  {
   "cell_type": "markdown",
   "metadata": {},
   "source": [
    "# APG-MLE\n",
    "\n",
    "The APG-MLE method implementation in MATLAB provided in https://github.com/qMLE/qMLE requires an input density matrix and a set of measurement operators. Here, we will export the same data to a matlab format and use the APG-MLE method for reconstruction of the density matrix of the state."
   ]
  },
  {
   "cell_type": "code",
   "execution_count": 45,
   "metadata": {},
   "outputs": [],
   "source": [
    "ops_numpy = np.array([op.data.toarray() for op in m_ops]) # convert the QuTiP Qobj to numpy arrays\n",
    "ops = np.transpose(ops_numpy, [1, 2, 0])\n",
    "\n",
    "mdic = {\"measurements\": ops}\n",
    "savemat(\"data/measurements.mat\", mdic)"
   ]
  },
  {
   "cell_type": "code",
   "execution_count": 46,
   "metadata": {},
   "outputs": [],
   "source": [
    "mdic = {\"rho\": rho.full()}\n",
    "savemat(\"data/rho.mat\", mdic)"
   ]
  },
  {
   "cell_type": "markdown",
   "metadata": {},
   "source": [
    "# Reconstruct using the APG-MLE MATLAB code"
   ]
  },
  {
   "cell_type": "code",
   "execution_count": 59,
   "metadata": {},
   "outputs": [],
   "source": [
    "fidelities = loadmat(\"data/fidelities-apg-mle.mat\")\n",
    "fidelities = fidelities['flist1'].ravel()"
   ]
  },
  {
   "cell_type": "code",
   "execution_count": 60,
   "metadata": {},
   "outputs": [
    {
     "data": {
      "image/png": "[encoded data removed]",
      "text/plain": [
       "<Figure size 432x288 with 1 Axes>"
      ]
     },
     "metadata": {
      "needs_background": "light"
     },
     "output_type": "display_data"
    }
   ],
   "source": [
    "iterations = np.arange(len(fidelities))\n",
    "plt.plot(iterations, fidelities, color=\"black\", label=\"APG-MLE\")\n",
    "plt.legend()\n",
    "plt.xlabel(\"Iterations\")\n",
    "plt.ylabel(\"Fidelity\")\n",
    "plt.ylim(0, 1)\n",
    "plt.grid(which='minor', alpha=0.2)\n",
    "plt.grid(which='major', alpha=0.2)\n",
    "plt.xscale('log')\n",
    "plt.show()"
   ]
  }
 ],
 "metadata": {
  "interpreter": {
   "hash": "2233be6a3956c874a48c6fd5b87bf8a1e6d820c7a8b203922feb36e9920695d6"
  },
  "kernelspec": {
   "display_name": "Python 3.9.5 64-bit ('qstcgan': conda)",
   "name": "python3"
  },
  "language_info": {
   "codemirror_mode": {
    "name": "ipython",
    "version": 3
   },
   "file_extension": ".py",
   "mimetype": "text/x-python",
   "name": "python",
   "nbconvert_exporter": "python",
   "pygments_lexer": "ipython3",
   "version": "3.9.5"
  },
  "orig_nbformat": 4
 },
 "nbformat": 4,
 "nbformat_minor": 2
}