{
 "cells": [
  {
   "cell_type": "markdown",
   "metadata": {},
   "source": [
    "## Training a simple neural network to learn a GHZ state\n",
    "\n",
    "We generate expectation values of measurements, add noise to them and then\n",
    "use a simple neural network to learn the state from the noisy data."
   ]
  },
  {
   "cell_type": "code",
   "execution_count": 1,
   "metadata": {},
   "outputs": [
    {
     "name": "stderr",
     "output_type": "stream",
     "text": [
      "/Users/shahnawaz/miniconda3/envs/implicit/lib/python3.9/site-packages/tqdm/auto.py:22: TqdmWarning: IProgress not found. Please update jupyter and ipywidgets. See https://ipywidgets.readthedocs.io/en/stable/user_install.html\n",
      "  from .autonotebook import tqdm as notebook_tqdm\n"
     ]
    }
   ],
   "source": [
    "from itertools import product\n",
    "\n",
    "import pennylane as qml\n",
    "import numpy as np\n",
    "\n",
    "\n",
    "import jax\n",
    "from jax import numpy as jnp\n",
    "from jax import jit\n",
    "from jax.config import config\n",
    "config.update(\"jax_enable_x64\", True) # We want float64 for better accuracy\n",
    "\n",
    "from qutip import sigmax, sigmaz, sigmay, Qobj\n",
    "from qutip import hinton\n",
    "from qutip import tensor\n",
    "\n",
    "\n",
    "import haiku as hk\n",
    "\n",
    "import optax\n",
    "\n",
    "\n",
    "from tqdm.auto import tqdm, trange\n",
    "\n",
    "import matplotlib.pyplot as plt"
   ]
  },
  {
   "cell_type": "code",
   "execution_count": 2,
   "metadata": {},
   "outputs": [],
   "source": [
    "def ghz_state(num_qubits: int)->np.array:\n",
    "    \"\"\"Generates the GHZ state density matrix.\n",
    "\n",
    "    Args:\n",
    "        num_qubits (int): Number of qubits.\n",
    "\n",
    "    Returns:\n",
    "        dm (np.array[complex]): The density matrix of the GHZ state.\n",
    "    \"\"\"\n",
    "    state = np.zeros(shape=(2 ** num_qubits, 2 ** num_qubits))\n",
    "    state[0, 0] = state[0, -1] = state[-1, 0] = state[-1, -1] = 1\n",
    "    dm = 0.5 * state\n",
    "    return dm"
   ]
  },
  {
   "cell_type": "code",
   "execution_count": 3,
   "metadata": {},
   "outputs": [],
   "source": [
    "N = 5"
   ]
  },
  {
   "cell_type": "markdown",
   "metadata": {},
   "source": [
    "## Lets generate the state with a simple neural network and same measurement data"
   ]
  },
  {
   "cell_type": "code",
   "execution_count": 4,
   "metadata": {},
   "outputs": [],
   "source": [
    "rho = ghz_state(N)\n",
    "\n",
    "# local qubit unitaries\n",
    "unitaries = [sigmax(), sigmay(), sigmaz()]"
   ]
  },
  {
   "cell_type": "code",
   "execution_count": 5,
   "metadata": {},
   "outputs": [
    {
     "data": {
      "text/plain": [
       "[(0, 0, 0, 0, 0),\n",
       " (0, 0, 0, 0, 1),\n",
       " (0, 0, 0, 0, 2),\n",
       " (0, 0, 0, 1, 0),\n",
       " (0, 0, 0, 1, 1),\n",
       " (0, 0, 0, 1, 2),\n",
       " (0, 0, 0, 2, 0),\n",
       " (0, 0, 0, 2, 1),\n",
       " (0, 0, 0, 2, 2),\n",
       " (0, 0, 1, 0, 0),\n",
       " (0, 0, 1, 0, 1),\n",
       " (0, 0, 1, 0, 2),\n",
       " (0, 0, 1, 1, 0),\n",
       " (0, 0, 1, 1, 1),\n",
       " (0, 0, 1, 1, 2),\n",
       " (0, 0, 1, 2, 0),\n",
       " (0, 0, 1, 2, 1),\n",
       " (0, 0, 1, 2, 2),\n",
       " (0, 0, 2, 0, 0),\n",
       " (0, 0, 2, 0, 1),\n",
       " (0, 0, 2, 0, 2),\n",
       " (0, 0, 2, 1, 0),\n",
       " (0, 0, 2, 1, 1),\n",
       " (0, 0, 2, 1, 2),\n",
       " (0, 0, 2, 2, 0),\n",
       " (0, 0, 2, 2, 1),\n",
       " (0, 0, 2, 2, 2),\n",
       " (0, 1, 0, 0, 0),\n",
       " (0, 1, 0, 0, 1),\n",
       " (0, 1, 0, 0, 2),\n",
       " (0, 1, 0, 1, 0),\n",
       " (0, 1, 0, 1, 1),\n",
       " (0, 1, 0, 1, 2),\n",
       " (0, 1, 0, 2, 0),\n",
       " (0, 1, 0, 2, 1),\n",
       " (0, 1, 0, 2, 2),\n",
       " (0, 1, 1, 0, 0),\n",
       " (0, 1, 1, 0, 1),\n",
       " (0, 1, 1, 0, 2),\n",
       " (0, 1, 1, 1, 0),\n",
       " (0, 1, 1, 1, 1),\n",
       " (0, 1, 1, 1, 2),\n",
       " (0, 1, 1, 2, 0),\n",
       " (0, 1, 1, 2, 1),\n",
       " (0, 1, 1, 2, 2),\n",
       " (0, 1, 2, 0, 0),\n",
       " (0, 1, 2, 0, 1),\n",
       " (0, 1, 2, 0, 2),\n",
       " (0, 1, 2, 1, 0),\n",
       " (0, 1, 2, 1, 1),\n",
       " (0, 1, 2, 1, 2),\n",
       " (0, 1, 2, 2, 0),\n",
       " (0, 1, 2, 2, 1),\n",
       " (0, 1, 2, 2, 2),\n",
       " (0, 2, 0, 0, 0),\n",
       " (0, 2, 0, 0, 1),\n",
       " (0, 2, 0, 0, 2),\n",
       " (0, 2, 0, 1, 0),\n",
       " (0, 2, 0, 1, 1),\n",
       " (0, 2, 0, 1, 2),\n",
       " (0, 2, 0, 2, 0),\n",
       " (0, 2, 0, 2, 1),\n",
       " (0, 2, 0, 2, 2),\n",
       " (0, 2, 1, 0, 0),\n",
       " (0, 2, 1, 0, 1),\n",
       " (0, 2, 1, 0, 2),\n",
       " (0, 2, 1, 1, 0),\n",
       " (0, 2, 1, 1, 1),\n",
       " (0, 2, 1, 1, 2),\n",
       " (0, 2, 1, 2, 0),\n",
       " (0, 2, 1, 2, 1),\n",
       " (0, 2, 1, 2, 2),\n",
       " (0, 2, 2, 0, 0),\n",
       " (0, 2, 2, 0, 1),\n",
       " (0, 2, 2, 0, 2),\n",
       " (0, 2, 2, 1, 0),\n",
       " (0, 2, 2, 1, 1),\n",
       " (0, 2, 2, 1, 2),\n",
       " (0, 2, 2, 2, 0),\n",
       " (0, 2, 2, 2, 1),\n",
       " (0, 2, 2, 2, 2),\n",
       " (1, 0, 0, 0, 0),\n",
       " (1, 0, 0, 0, 1),\n",
       " (1, 0, 0, 0, 2),\n",
       " (1, 0, 0, 1, 0),\n",
       " (1, 0, 0, 1, 1),\n",
       " (1, 0, 0, 1, 2),\n",
       " (1, 0, 0, 2, 0),\n",
       " (1, 0, 0, 2, 1),\n",
       " (1, 0, 0, 2, 2),\n",
       " (1, 0, 1, 0, 0),\n",
       " (1, 0, 1, 0, 1),\n",
       " (1, 0, 1, 0, 2),\n",
       " (1, 0, 1, 1, 0),\n",
       " (1, 0, 1, 1, 1),\n",
       " (1, 0, 1, 1, 2),\n",
       " (1, 0, 1, 2, 0),\n",
       " (1, 0, 1, 2, 1),\n",
       " (1, 0, 1, 2, 2),\n",
       " (1, 0, 2, 0, 0),\n",
       " (1, 0, 2, 0, 1),\n",
       " (1, 0, 2, 0, 2),\n",
       " (1, 0, 2, 1, 0),\n",
       " (1, 0, 2, 1, 1),\n",
       " (1, 0, 2, 1, 2),\n",
       " (1, 0, 2, 2, 0),\n",
       " (1, 0, 2, 2, 1),\n",
       " (1, 0, 2, 2, 2),\n",
       " (1, 1, 0, 0, 0),\n",
       " (1, 1, 0, 0, 1),\n",
       " (1, 1, 0, 0, 2),\n",
       " (1, 1, 0, 1, 0),\n",
       " (1, 1, 0, 1, 1),\n",
       " (1, 1, 0, 1, 2),\n",
       " (1, 1, 0, 2, 0),\n",
       " (1, 1, 0, 2, 1),\n",
       " (1, 1, 0, 2, 2),\n",
       " (1, 1, 1, 0, 0),\n",
       " (1, 1, 1, 0, 1),\n",
       " (1, 1, 1, 0, 2),\n",
       " (1, 1, 1, 1, 0),\n",
       " (1, 1, 1, 1, 1),\n",
       " (1, 1, 1, 1, 2),\n",
       " (1, 1, 1, 2, 0),\n",
       " (1, 1, 1, 2, 1),\n",
       " (1, 1, 1, 2, 2),\n",
       " (1, 1, 2, 0, 0),\n",
       " (1, 1, 2, 0, 1),\n",
       " (1, 1, 2, 0, 2),\n",
       " (1, 1, 2, 1, 0),\n",
       " (1, 1, 2, 1, 1),\n",
       " (1, 1, 2, 1, 2),\n",
       " (1, 1, 2, 2, 0),\n",
       " (1, 1, 2, 2, 1),\n",
       " (1, 1, 2, 2, 2),\n",
       " (1, 2, 0, 0, 0),\n",
       " (1, 2, 0, 0, 1),\n",
       " (1, 2, 0, 0, 2),\n",
       " (1, 2, 0, 1, 0),\n",
       " (1, 2, 0, 1, 1),\n",
       " (1, 2, 0, 1, 2),\n",
       " (1, 2, 0, 2, 0),\n",
       " (1, 2, 0, 2, 1),\n",
       " (1, 2, 0, 2, 2),\n",
       " (1, 2, 1, 0, 0),\n",
       " (1, 2, 1, 0, 1),\n",
       " (1, 2, 1, 0, 2),\n",
       " (1, 2, 1, 1, 0),\n",
       " (1, 2, 1, 1, 1),\n",
       " (1, 2, 1, 1, 2),\n",
       " (1, 2, 1, 2, 0),\n",
       " (1, 2, 1, 2, 1),\n",
       " (1, 2, 1, 2, 2),\n",
       " (1, 2, 2, 0, 0),\n",
       " (1, 2, 2, 0, 1),\n",
       " (1, 2, 2, 0, 2),\n",
       " (1, 2, 2, 1, 0),\n",
       " (1, 2, 2, 1, 1),\n",
       " (1, 2, 2, 1, 2),\n",
       " (1, 2, 2, 2, 0),\n",
       " (1, 2, 2, 2, 1),\n",
       " (1, 2, 2, 2, 2),\n",
       " (2, 0, 0, 0, 0),\n",
       " (2, 0, 0, 0, 1),\n",
       " (2, 0, 0, 0, 2),\n",
       " (2, 0, 0, 1, 0),\n",
       " (2, 0, 0, 1, 1),\n",
       " (2, 0, 0, 1, 2),\n",
       " (2, 0, 0, 2, 0),\n",
       " (2, 0, 0, 2, 1),\n",
       " (2, 0, 0, 2, 2),\n",
       " (2, 0, 1, 0, 0),\n",
       " (2, 0, 1, 0, 1),\n",
       " (2, 0, 1, 0, 2),\n",
       " (2, 0, 1, 1, 0),\n",
       " (2, 0, 1, 1, 1),\n",
       " (2, 0, 1, 1, 2),\n",
       " (2, 0, 1, 2, 0),\n",
       " (2, 0, 1, 2, 1),\n",
       " (2, 0, 1, 2, 2),\n",
       " (2, 0, 2, 0, 0),\n",
       " (2, 0, 2, 0, 1),\n",
       " (2, 0, 2, 0, 2),\n",
       " (2, 0, 2, 1, 0),\n",
       " (2, 0, 2, 1, 1),\n",
       " (2, 0, 2, 1, 2),\n",
       " (2, 0, 2, 2, 0),\n",
       " (2, 0, 2, 2, 1),\n",
       " (2, 0, 2, 2, 2),\n",
       " (2, 1, 0, 0, 0),\n",
       " (2, 1, 0, 0, 1),\n",
       " (2, 1, 0, 0, 2),\n",
       " (2, 1, 0, 1, 0),\n",
       " (2, 1, 0, 1, 1),\n",
       " (2, 1, 0, 1, 2),\n",
       " (2, 1, 0, 2, 0),\n",
       " (2, 1, 0, 2, 1),\n",
       " (2, 1, 0, 2, 2),\n",
       " (2, 1, 1, 0, 0),\n",
       " (2, 1, 1, 0, 1),\n",
       " (2, 1, 1, 0, 2),\n",
       " (2, 1, 1, 1, 0),\n",
       " (2, 1, 1, 1, 1),\n",
       " (2, 1, 1, 1, 2),\n",
       " (2, 1, 1, 2, 0),\n",
       " (2, 1, 1, 2, 1),\n",
       " (2, 1, 1, 2, 2),\n",
       " (2, 1, 2, 0, 0),\n",
       " (2, 1, 2, 0, 1),\n",
       " (2, 1, 2, 0, 2),\n",
       " (2, 1, 2, 1, 0),\n",
       " (2, 1, 2, 1, 1),\n",
       " (2, 1, 2, 1, 2),\n",
       " (2, 1, 2, 2, 0),\n",
       " (2, 1, 2, 2, 1),\n",
       " (2, 1, 2, 2, 2),\n",
       " (2, 2, 0, 0, 0),\n",
       " (2, 2, 0, 0, 1),\n",
       " (2, 2, 0, 0, 2),\n",
       " (2, 2, 0, 1, 0),\n",
       " (2, 2, 0, 1, 1),\n",
       " (2, 2, 0, 1, 2),\n",
       " (2, 2, 0, 2, 0),\n",
       " (2, 2, 0, 2, 1),\n",
       " (2, 2, 0, 2, 2),\n",
       " (2, 2, 1, 0, 0),\n",
       " (2, 2, 1, 0, 1),\n",
       " (2, 2, 1, 0, 2),\n",
       " (2, 2, 1, 1, 0),\n",
       " (2, 2, 1, 1, 1),\n",
       " (2, 2, 1, 1, 2),\n",
       " (2, 2, 1, 2, 0),\n",
       " (2, 2, 1, 2, 1),\n",
       " (2, 2, 1, 2, 2),\n",
       " (2, 2, 2, 0, 0),\n",
       " (2, 2, 2, 0, 1),\n",
       " (2, 2, 2, 0, 2),\n",
       " (2, 2, 2, 1, 0),\n",
       " (2, 2, 2, 1, 1),\n",
       " (2, 2, 2, 1, 2),\n",
       " (2, 2, 2, 2, 0),\n",
       " (2, 2, 2, 2, 1),\n",
       " (2, 2, 2, 2, 2)]"
      ]
     },
     "execution_count": 5,
     "metadata": {},
     "output_type": "execute_result"
    }
   ],
   "source": [
    "list(product([0, 1, 2], repeat=N))"
   ]
  },
  {
   "cell_type": "code",
   "execution_count": 6,
   "metadata": {},
   "outputs": [
    {
     "name": "stderr",
     "output_type": "stream",
     "text": [
      "WARNING:absl:No GPU/TPU found, falling back to CPU. (Set TF_CPP_MIN_LOG_LEVEL=0 and rerun for more info.)\n"
     ]
    }
   ],
   "source": [
    "m_ops = [] # measurement ops\n",
    "\n",
    "for idx in product([0, 1, 2], repeat=N):\n",
    "    U = tensor([unitaries[i] for i in idx])\n",
    "    U = jnp.array(U.full())\n",
    "    m_ops.append(U)"
   ]
  },
  {
   "cell_type": "code",
   "execution_count": 7,
   "metadata": {},
   "outputs": [],
   "source": [
    "@jit # just in time compilation for speed\n",
    "def expectation(rho, ops):\n",
    "    \"\"\"Expectation layer that predicts the expectation value for operators\n",
    "\n",
    "    Args:\n",
    "        rho (array): A density matrix as a Jax array of shape (N, N)\n",
    "        ops (array): A set of measurement operators as a Jax array of shape\n",
    "                     (n, N, N) where n is the number of operators\n",
    "\n",
    "    Returns\n",
    "        evals (array): An array of expectation values for the operators.\n",
    "    \"\"\"\n",
    "    products = jnp.einsum('nij, jk -> nik', ops, rho)\n",
    "    trace = jnp.einsum('nii -> n', products)\n",
    "    return trace.real\n",
    "\n",
    "\n",
    "ops_jax = jnp.array(m_ops)\n",
    "rho_jax = jnp.array(rho)\n",
    "\n",
    "expvals = expectation(rho_jax, ops_jax)\n",
    "\n",
    "# Sample/add noise to the expvals\n",
    "data = jnp.array(expvals + np.random.uniform(0, 0.2, size=expvals.shape[0]))"
   ]
  },
  {
   "cell_type": "code",
   "execution_count": 8,
   "metadata": {},
   "outputs": [
    {
     "data": {
      "image/png": "[encoded data removed]",
      "text/plain": [
       "<Figure size 432x288 with 1 Axes>"
      ]
     },
     "metadata": {
      "needs_background": "light"
     },
     "output_type": "display_data"
    }
   ],
   "source": [
    "labels = np.arange(0, len(data))\n",
    "\n",
    "plt.bar(labels, data, label=\"Noisy\")\n",
    "plt.bar(labels, expvals, label=\"True\", width=0.5)\n",
    "plt.legend()\n",
    "plt.xlabel(\"Measurement setting\")\n",
    "plt.ylabel(\"Expectation value\")\n",
    "\n",
    "plt.show()"
   ]
  },
  {
   "cell_type": "code",
   "execution_count": 9,
   "metadata": {},
   "outputs": [
    {
     "name": "stdout",
     "output_type": "stream",
     "text": [
      "Hermitian: True\n"
     ]
    }
   ],
   "source": [
    "@jit\n",
    "def clean_cholesky(chi):\n",
    "    \"\"\"Converts a random matrix which has a shape (N, N, 2) to a Hermitian\n",
    "    matrix. The last dimension contains real and imaginary parts. \n",
    "    We consider a lower triangular complex matrix with real diagonals \n",
    "    and returning T'T.\n",
    "\n",
    "    Args:\n",
    "        chi (array): A matrix of shape (N, N, 2).\n",
    "\n",
    "    Returns\n",
    "        rho (array (complex)): A Hermitian matrix using the Cholesky decomposition\n",
    "    \"\"\"\n",
    "    diagonal_elements = jnp.diag(jnp.diag(chi).real)\n",
    "    indices = jnp.tril_indices(chi.shape[0], 0)\n",
    "    # chi_upper = index_update(chi, index[indices], 0)\n",
    "    chi_upper = chi.at[indices].set(0)\n",
    "    T = chi_upper + diagonal_elements\n",
    "    return jnp.conj(T.T)@T\n",
    "\n",
    "\n",
    "rand_mat = np.random.random(size=(2**N, 2**N)) + 1j*np.random.random(size=(2**N, 2**N))\n",
    "mat_cleaned = clean_cholesky(rand_mat)\n",
    "print(\"Hermitian:\", Qobj(np.array(mat_cleaned)).isherm)"
   ]
  },
  {
   "cell_type": "code",
   "execution_count": 10,
   "metadata": {},
   "outputs": [],
   "source": [
    "# Neural network model"
   ]
  },
  {
   "cell_type": "code",
   "execution_count": 11,
   "metadata": {},
   "outputs": [],
   "source": [
    "class Network(hk.Module):\n",
    "    \"\"\"Network model that goes from data -> rho.\"\"\"\n",
    "    def __init__(self, hilbert_size):\n",
    "        super().__init__()\n",
    "        self.hilbert_size = hilbert_size\n",
    "\n",
    "    def __call__(self, x):\n",
    "        x = hk.Flatten()(x)\n",
    "        x = hk.Linear(64)(x)\n",
    "\n",
    "        x = jax.nn.leaky_relu(x)\n",
    "        x = hk.Linear(64)(x)\n",
    "        x = jax.nn.leaky_relu(x)\n",
    "        x = hk.Linear(64)(x)\n",
    "        x = jax.nn.leaky_relu(x)\n",
    "        x = x.reshape(1, -1)\n",
    "\n",
    "        x = hk.Linear(self.hilbert_size**2 * 2)(x) # Real and complex parts\n",
    "        x = x.reshape(self.hilbert_size, self.hilbert_size, 2)        \n",
    "        x = x[..., 0] + 1j*x[..., 1]\n",
    "        x = clean_cholesky(x)\n",
    "        x = x/jnp.trace(x) # Trace preserving\n",
    "        return x\n",
    "\n",
    "\n",
    "rng_seq = hk.PRNGSequence(32)\n",
    "model_forward = hk.transform(lambda x: Network(hilbert_size=2**N)(x))\n",
    "model_forward = hk.without_apply_rng(model_forward)\n",
    "params = model_forward.init(next(rng_seq), data)"
   ]
  },
  {
   "cell_type": "code",
   "execution_count": 12,
   "metadata": {},
   "outputs": [
    {
     "name": "stdout",
     "output_type": "stream",
     "text": [
      "4.847571186221416\n"
     ]
    }
   ],
   "source": [
    "@jit\n",
    "def loss_fn(params, d, ops):\n",
    "    \"\"\"Loss function to optimize.\n",
    "\n",
    "    Args:\n",
    "        params ([type]): Neural network parameters\n",
    "        d ([type]): Data\n",
    "        ops ([type]): Operators measured\n",
    "\n",
    "    Returns:\n",
    "        float: The loss value.\n",
    "    \"\"\"\n",
    "    rho_predicted = model_forward.apply(params, d)\n",
    "    data_predicted = expectation(rho_predicted, ops)\n",
    "    loss = jnp.linalg.norm(d - data_predicted)\n",
    "    return loss + 0.1*jnp.sum(jnp.abs(rho_predicted))\n",
    "\n",
    "\n",
    "print(loss_fn(params, data, ops_jax))"
   ]
  },
  {
   "cell_type": "code",
   "execution_count": 13,
   "metadata": {},
   "outputs": [
    {
     "name": "stderr",
     "output_type": "stream",
     "text": [
      "100%|██████████| 1000/1000 [00:06<00:00, 162.17it/s]\n"
     ]
    },
    {
     "data": {
      "text/plain": [
       "[<matplotlib.lines.Line2D at 0x7fc1687a3340>]"
      ]
     },
     "execution_count": 13,
     "metadata": {},
     "output_type": "execute_result"
    },
    {
     "data": {
      "image/png": "[encoded data removed]",
      "text/plain": [
       "<Figure size 432x288 with 1 Axes>"
      ]
     },
     "metadata": {
      "needs_background": "light"
     },
     "output_type": "display_data"
    }
   ],
   "source": [
    "optimizer = optax.adam(2e-2, 0.9, 0.9)\n",
    "opt_state = optimizer.init(params)\n",
    "\n",
    "@jax.jit\n",
    "def update(\n",
    "    params,\n",
    "    opt_state,\n",
    "    d, ops):\n",
    "    \"\"\"Single SGD update step.\"\"\"\n",
    "    grads = jax.grad(loss_fn)(params, d, ops)\n",
    "    updates, new_opt_state = optimizer.update(grads, opt_state)\n",
    "    new_params = optax.apply_updates(params, updates)\n",
    "    return new_params, new_opt_state\n",
    "\n",
    "\n",
    "loss_hist = []\n",
    "\n",
    "for step in tqdm(range(1000)):\n",
    "    params, opt_state = update(params, opt_state, data, ops_jax)\n",
    "    loss_hist.append(loss_fn(params, data, ops_jax))\n",
    "    \n",
    "plt.plot(loss_hist)"
   ]
  },
  {
   "cell_type": "code",
   "execution_count": 14,
   "metadata": {},
   "outputs": [
    {
     "data": {
      "image/png": "[encoded data removed]",
      "text/plain": [
       "<Figure size 864x288 with 4 Axes>"
      ]
     },
     "metadata": {
      "needs_background": "light"
     },
     "output_type": "display_data"
    }
   ],
   "source": [
    "rho_predicted = model_forward.apply(params, data)\n",
    "rho_predicted = Qobj(np.array(rho_predicted))\n",
    "\n",
    "fig, ax = plt.subplots(1, 2, figsize=(12, 4))\n",
    "\n",
    "hinton(np.array(rho), ax=ax[0])\n",
    "hinton(rho_predicted, ax=ax[1])\n",
    "ax[0].set_title(r\"$\\rho$ (True)\")\n",
    "ax[1].set_title(r\"$\\rho$ (pred)\")\n",
    "plt.show()"
   ]
  }
 ],
 "metadata": {
  "interpreter": {
   "hash": "1fa4444d81637a0f0dbd574e326b9dbd8553cc428d224073539811ecb6308a52"
  },
  "kernelspec": {
   "display_name": "Python 3.9.12 ('implicit')",
   "language": "python",
   "name": "python3"
  },
  "language_info": {
   "codemirror_mode": {
    "name": "ipython",
    "version": 3
   },
   "file_extension": ".py",
   "mimetype": "text/x-python",
   "name": "python",
   "nbconvert_exporter": "python",
   "pygments_lexer": "ipython3",
   "version": "3.9.12"
  },
  "orig_nbformat": 4
 },
 "nbformat": 4,
 "nbformat_minor": 2
}
