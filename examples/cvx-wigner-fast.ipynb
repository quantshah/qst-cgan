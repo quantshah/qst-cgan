{
 "cells": [
  {
   "cell_type": "markdown",
   "id": "e6a7f1ae",
   "metadata": {},
   "source": [
    "### Convex optimization with CVXPY for Wigner state reconstructions"
   ]
  },
  {
   "cell_type": "code",
   "execution_count": 2,
   "id": "f55cd1ca",
   "metadata": {},
   "outputs": [],
   "source": [
    "import numpy as np\n",
    "\n",
    "from jax import numpy as jnp\n",
    "from jax import jit, vmap\n",
    "from jax import config\n",
    "\n",
    "\n",
    "import cvxpy as cp\n",
    "\n",
    "from qutip import coherent, coherent_dm, ket2dm, Qobj, fock, displace, fock_dm, expect, fidelity, thermal_dm\n",
    "from qutip.visualization import plot_wigner_fock_distribution\n",
    "from qutip.wigner import wigner, qfunc\n",
    "from qutip.random_objects import rand_ket, rand_dm\n",
    "\n",
    "from tqdm.auto import tqdm\n",
    "\n",
    "import matplotlib.pyplot as plt\n",
    "from matplotlib import colors\n",
    "\n",
    "config.update(\"jax_enable_x64\", True) # We want float64 for better precision"
   ]
  },
  {
   "cell_type": "code",
   "execution_count": 3,
   "id": "805fe3af",
   "metadata": {},
   "outputs": [
    {
     "data": {
      "image/png": "[encoded data removed]",
      "text/plain": [
       "<Figure size 576x288 with 2 Axes>"
      ]
     },
     "metadata": {
      "needs_background": "light"
     },
     "output_type": "display_data"
    }
   ],
   "source": [
    "N = 64\n",
    "\n",
    "# inspired by https://arxiv.org/pdf/2106.10655.pdf #\n",
    "\n",
    "# define state\n",
    "\n",
    "alpha_range = 2\n",
    "alphas = np.array([alpha_range, -alpha_range]) #  - 1j*alpha_range, -alpha_range + 1j*alpha_range\n",
    "\n",
    "psi = sum([coherent(N, a) for a in alphas])\n",
    "psi = psi.unit()\n",
    "rho = (psi*psi.dag())\n",
    "\n",
    "p = 0.9\n",
    "rho = p*rho + (1 - p)*thermal_dm(N, .5)\n",
    "rho = rho.unit()\n",
    "\n",
    "plot_wigner_fock_distribution(rho)\n",
    "plt.show()"
   ]
  },
  {
   "cell_type": "code",
   "execution_count": 4,
   "id": "18c073a7",
   "metadata": {},
   "outputs": [],
   "source": [
    "##################################\n",
    "# construct operator basis (Fock basis)\n",
    "\n",
    "basis_vectors = []\n",
    "\n",
    "for i in range(N):\n",
    "    vector = fock(N, i)\n",
    "    basis_vectors.append(np.real(vector.full()))\n",
    "#print(basis_vectors, \"\\n\")\n",
    "\n",
    "basis_dms = []\n",
    "\n",
    "for vector1 in basis_vectors:\n",
    "    for vector2 in basis_vectors:\n",
    "        dm = np.outer(vector1, vector2)\n",
    "        basis_dms.append(dm)"
   ]
  },
  {
   "cell_type": "code",
   "execution_count": 5,
   "id": "ae8e0b8e",
   "metadata": {},
   "outputs": [],
   "source": [
    "basis_dms = jnp.array(basis_dms)"
   ]
  },
  {
   "cell_type": "code",
   "execution_count": 6,
   "id": "9298696d",
   "metadata": {},
   "outputs": [],
   "source": [
    "def dag(state):\n",
    "    r\"\"\"Returns conjugate transpose of a given state, represented by :math:`A^{\\dagger}`, where :math:`A` is\n",
    "    a quantum state represented by a ket, a bra or, more generally, a density matrix.\n",
    "    Args:\n",
    "        state (:obj:`jnp.ndarray`): State to perform the dagger operation on\n",
    "     \n",
    "    Returns:\n",
    "        :obj:`jnp.ndarray`: Conjugate transposed jax.numpy representation of the input state\n",
    " \n",
    "    \"\"\"\n",
    "    return jnp.conjugate(jnp.transpose(state))\n",
    "\n",
    "\n",
    "def _kth_diag_indices(a, k):\n",
    "    rows, cols = jnp.diag_indices_from(a)\n",
    "    if k < 0:\n",
    "        return rows[-k:], cols[:k]\n",
    "    elif k > 0:\n",
    "        return rows[:-k], cols[k:]\n",
    "    else:\n",
    "        return rows, cols\n",
    "\n",
    "\n",
    "class Displace:\n",
    "    r\"\"\"Displacement operator for optical phase space.\n",
    "    \n",
    "    .. math:: D(\\alpha) = \\exp(\\alpha a^\\dagger -\\alpha^* a)\n",
    "    Args:\n",
    "    n (int): dimension of the displace operator\n",
    "    \"\"\"\n",
    "\n",
    "    def __init__(self, n):\n",
    "        # The off-diagonal of the real-symmetric similar matrix T.\n",
    "        sym = (2.0 * (jnp.arange(1, n) % 2) - 1) * jnp.sqrt(jnp.arange(1, n))\n",
    "        # Solve the eigensystem.\n",
    "        mat = jnp.zeros((n, n), dtype=jnp.complex128)\n",
    "\n",
    "        i, j = _kth_diag_indices(mat, -1)\n",
    "        mat = mat.at[i, j].set(sym)\n",
    "\n",
    "        i, j = _kth_diag_indices(mat, 1)\n",
    "        mat = mat.at[i, j].set(sym)\n",
    "\n",
    "        self.evals, self.evecs = jnp.linalg.eigh(mat)\n",
    "        self.range = jnp.arange(n)\n",
    "        self.t_scale = 1j ** (self.range % 2)\n",
    "\n",
    "    def __call__(self, alpha):\n",
    "        r\"\"\"Callable with ``alpha`` as the displacement parameter\n",
    "        Args:\n",
    "            alpha (float): Displacement parameter\n",
    "        Returns:\n",
    "            :obj:`jnp.ndarray`: Matrix representing :math:`n-`dimensional displace operator\n",
    "            with :math:`\\alpha` displacement\n",
    "        \n",
    "        \"\"\"\n",
    "        # Diagonal of the transformation matrix P, and apply to eigenvectors.\n",
    "        transform = jnp.where(\n",
    "            alpha == 0,\n",
    "            self.t_scale,\n",
    "            self.t_scale * (alpha / jnp.abs(alpha)) ** -self.range,\n",
    "        )\n",
    "        evecs = transform[:, None] * self.evecs\n",
    "        # Get the exponentiated diagonal.\n",
    "        diag = jnp.exp(1j * jnp.abs(alpha) * self.evals)\n",
    "        return jnp.conj(evecs) @ (diag[:, None] * evecs.T)\n",
    "\n",
    "\n",
    "\n",
    "\n",
    "\n",
    "\n",
    "hilbert_size = N\n",
    "d = Displace(hilbert_size*2)\n",
    "\n",
    "def fock_dm(hilbert_size, n):\n",
    "    \"\"\"Generates Fock density matrices.\n",
    "\n",
    "    Args:\n",
    "        hilbert_size (int): Hilbet space dimension\n",
    "        n (int): Fock number\n",
    "    \"\"\"\n",
    "    mat = jnp.zeros((hilbert_size, hilbert_size), dtype=jnp.complex128)\n",
    "    mat = mat.at[n, n].set(1.)\n",
    "    return mat\n",
    "\n",
    "parity_op = jnp.sum(jnp.array([((-1)**i)*fock_dm(hilbert_size*2, i) for i in range(hilbert_size)]), axis=0)\n",
    "\n",
    "@jit\n",
    "def wigner_op(beta):\n",
    "    \"\"\"\n",
    "    \"\"\"\n",
    "    D = d(beta)\n",
    "    A = D@parity_op@dag(D)\n",
    "    op = (A)*(2/jnp.pi)\n",
    "    op = op[:hilbert_size, :hilbert_size]\n",
    "\n",
    "    return op\n",
    "\n",
    "get_wigner_ops = jit(vmap(wigner_op))"
   ]
  },
  {
   "cell_type": "code",
   "execution_count": 7,
   "id": "2ea8685d",
   "metadata": {},
   "outputs": [],
   "source": [
    "def random_alpha(radius, inner_radius=0):\n",
    "    \"\"\"\n",
    "    Generates a random complex values within a circle\n",
    "    \n",
    "    Args:\n",
    "        radius (float): Radius for the values\n",
    "        inner_radius (float): Inner radius which defaults to 0.\n",
    "    \"\"\"\n",
    "    radius = np.random.uniform(inner_radius, radius)\n",
    "    phi = np.random.uniform(-np.pi, np.pi)\n",
    "    return radius * np.exp(1j * phi)\n",
    "\n",
    "beta_max = 2\n",
    "measurement_grid = 15\n",
    "\n",
    "xvec_betas = np.linspace(-beta_max, beta_max, measurement_grid)\n",
    "yvec_betas = np.linspace(-beta_max, beta_max, measurement_grid)\n",
    "\n",
    "X, Y = np.meshgrid(xvec_betas, yvec_betas)\n",
    "betas = (X + 1j*Y).ravel()\n",
    "\n",
    "Pis = get_wigner_ops(betas)"
   ]
  },
  {
   "cell_type": "code",
   "execution_count": 8,
   "id": "9b0546e1",
   "metadata": {},
   "outputs": [],
   "source": [
    "@jit\n",
    "def trace_dot(a, b):\n",
    "    \"\"\"\n",
    "    Take the trace of the dot product between a and b.\n",
    "    \"\"\"\n",
    "    return jnp.trace(a@b)\n",
    "\n",
    "trace_dot(Pis[0], basis_dms[0])\n",
    "get_A_matrix = vmap(vmap(trace_dot, in_axes=[None, 0]), in_axes = [0, None])"
   ]
  },
  {
   "cell_type": "code",
   "execution_count": 9,
   "id": "7898975b",
   "metadata": {},
   "outputs": [],
   "source": [
    "A = get_A_matrix(Pis, basis_dms)"
   ]
  },
  {
   "cell_type": "code",
   "execution_count": 10,
   "id": "414bec76",
   "metadata": {},
   "outputs": [],
   "source": [
    "#############\n",
    "\n",
    "# construct \"measurement result\"\n",
    "\n",
    "@jit\n",
    "def expect(oper, state):\n",
    "    \"\"\"Calculate the expectation value of an operator with respect to a density matrix\n",
    "    \n",
    "    Args:\n",
    "        oper, state (ndarray): The operator and state of dimensions (N, N) where N is the\n",
    "                               Hilbert space size\n",
    "    \"\"\"\n",
    "    # convert to jax.numpy arrays in case user gives raw numpy\n",
    "    oper, rho = jnp.asarray(oper), jnp.asarray(state)\n",
    "    # Tr(rho*op)\n",
    "    return jnp.trace(jnp.dot(rho, oper)).real\n",
    "\n",
    "\n",
    "vectorized_expect = jit(vmap(expect, in_axes = [0, None]))\n",
    "b = vectorized_expect(Pis, rho.full())"
   ]
  },
  {
   "cell_type": "code",
   "execution_count": 11,
   "id": "f6c54ee7",
   "metadata": {},
   "outputs": [],
   "source": [
    "b = np.array(b)\n",
    "b += np.random.uniform(0, 0.05, size=len(b))\n",
    "b = b.reshape((-1,))"
   ]
  },
  {
   "cell_type": "code",
   "execution_count": 12,
   "id": "b8a11e49",
   "metadata": {},
   "outputs": [
    {
     "data": {
      "text/plain": [
       "((225, 4096), (225,))"
      ]
     },
     "execution_count": 12,
     "metadata": {},
     "output_type": "execute_result"
    }
   ],
   "source": [
    "A = np.array(A)\n",
    "A.shape, b.shape"
   ]
  },
  {
   "cell_type": "code",
   "execution_count": 13,
   "id": "b808f09f",
   "metadata": {},
   "outputs": [
    {
     "name": "stdout",
     "output_type": "stream",
     "text": [
      "===============================================================================\n",
      "                                     CVXPY                                     \n",
      "                                     v1.2.1                                    \n",
      "===============================================================================\n",
      "(CVXPY) Sep 16 01:19:45 PM: Your problem has 4096 variables, 2 constraints, and 0 parameters.\n",
      "(CVXPY) Sep 16 01:19:45 PM: It is compliant with the following grammars: DCP, DQCP\n",
      "(CVXPY) Sep 16 01:19:45 PM: (If you need to solve this problem multiple times, but with different data, consider using parameters.)\n",
      "(CVXPY) Sep 16 01:19:45 PM: CVXPY will first compile your problem; then, it will invoke a numerical solver to obtain a solution.\n",
      "-------------------------------------------------------------------------------\n",
      "                                  Compilation                                  \n",
      "-------------------------------------------------------------------------------\n",
      "(CVXPY) Sep 16 01:19:45 PM: Compiling problem (target solver=SCS).\n",
      "(CVXPY) Sep 16 01:19:45 PM: Reduction chain: Complex2Real -> Dcp2Cone -> CvxAttr2Constr -> ConeMatrixStuffing -> SCS\n",
      "(CVXPY) Sep 16 01:19:45 PM: Applying reduction Complex2Real\n",
      "(CVXPY) Sep 16 01:19:45 PM: Applying reduction Dcp2Cone\n",
      "(CVXPY) Sep 16 01:19:45 PM: Applying reduction CvxAttr2Constr\n",
      "(CVXPY) Sep 16 01:19:45 PM: Applying reduction ConeMatrixStuffing\n",
      "(CVXPY) Sep 16 01:19:47 PM: Applying reduction SCS\n",
      "(CVXPY) Sep 16 01:19:47 PM: Finished problem compilation (took 1.728e+00 seconds).\n",
      "-------------------------------------------------------------------------------\n",
      "                                Numerical solver                               \n",
      "-------------------------------------------------------------------------------\n",
      "(CVXPY) Sep 16 01:19:47 PM: Invoking solver SCS  to obtain a solution.\n",
      "------------------------------------------------------------------\n",
      "\t       SCS v3.2.0 - Splitting Conic Solver\n",
      "\t(c) Brendan O'Donoghue, Stanford University, 2012\n",
      "------------------------------------------------------------------\n",
      "problem:  variables n: 6402, constraints m: 9159\n",
      "cones: \t  z: primal zero / dual free vars: 2\n",
      "\t  q: soc vars: 901, qsize: 226\n",
      "\t  s: psd vars: 8256, ssize: 1\n",
      "settings: eps_abs: 1.0e-05, eps_rel: 1.0e-05, eps_infeas: 1.0e-07\n",
      "\t  alpha: 1.50, scale: 1.00e-01, adaptive_scale: 1\n",
      "\t  max_iters: 100000, normalize: 1, rho_x: 1.00e-06\n",
      "\t  acceleration_lookback: 10, acceleration_interval: 10\n",
      "lin-sys:  sparse-direct\n",
      "\t  nnz(A): 1387806, nnz(P): 0\n",
      "------------------------------------------------------------------\n",
      " iter | pri res | dua res |   gap   |   obj   |  scale  | time (s)\n",
      "------------------------------------------------------------------\n",
      "     0| 2.00e+01  1.00e+00  2.00e+01 -9.99e+00  1.00e-01  3.06e-02 \n",
      "   250| 2.32e-03  2.15e-03  1.59e-02  3.33e-01  4.82e-01  5.76e+00 \n",
      "   500| 2.07e-06  1.26e-06  1.56e-05  3.44e-01  4.82e-01  1.13e+01 \n",
      "   525| 1.06e-06  5.51e-07  8.14e-06  3.44e-01  4.82e-01  1.18e+01 \n",
      "------------------------------------------------------------------\n",
      "status:  solved\n",
      "timings: total: 1.26e+01s = setup: 8.28e-01s + solve: 1.18e+01s\n",
      "\t lin-sys: 3.59e+00s, cones: 7.53e+00s, accel: 2.35e-02s\n",
      "------------------------------------------------------------------\n",
      "objective = 0.343632\n",
      "------------------------------------------------------------------\n",
      "-------------------------------------------------------------------------------\n",
      "                                    Summary                                    \n",
      "-------------------------------------------------------------------------------\n",
      "(CVXPY) Sep 16 01:20:00 PM: Problem status: optimal\n",
      "(CVXPY) Sep 16 01:20:00 PM: Optimal value: 3.436e-01\n",
      "(CVXPY) Sep 16 01:20:00 PM: Compilation took 1.728e+00 seconds\n",
      "(CVXPY) Sep 16 01:20:00 PM: Solver (including time spent in interface) took 1.262e+01 seconds\n"
     ]
    },
    {
     "data": {
      "text/plain": [
       "0.3436383003317325"
      ]
     },
     "execution_count": 13,
     "metadata": {},
     "output_type": "execute_result"
    }
   ],
   "source": [
    "######################\n",
    "# optimize\n",
    "\n",
    "X = cp.Variable((N,N), hermitian=True)\n",
    "\n",
    "cost = cp.norm(A @ cp.reshape(X, (N*N)) -b, 2)\n",
    "constraints = [cp.trace(X) == 1, X >> 0 ]\n",
    "prob = cp.Problem(cp.Minimize(cost), constraints)\n",
    "prob.solve(verbose=True, solver='SCS')#, )"
   ]
  },
  {
   "cell_type": "code",
   "execution_count": 14,
   "id": "1200439e",
   "metadata": {},
   "outputs": [],
   "source": [
    "reconstruced = Qobj(X.value)"
   ]
  },
  {
   "cell_type": "code",
   "execution_count": 15,
   "id": "083813a8",
   "metadata": {},
   "outputs": [
    {
     "data": {
      "image/png": "[encoded data removed]",
      "text/plain": [
       "<Figure size 576x288 with 2 Axes>"
      ]
     },
     "metadata": {
      "needs_background": "light"
     },
     "output_type": "display_data"
    }
   ],
   "source": [
    "plot_wigner_fock_distribution(Qobj(rho))\n",
    "plt.show()"
   ]
  },
  {
   "cell_type": "code",
   "execution_count": 17,
   "id": "eb19ca35",
   "metadata": {},
   "outputs": [
    {
     "data": {
      "text/plain": [
       "Text(0.5, 1.0, 'Fidelity reconstruction 0.9724377439985398')"
      ]
     },
     "execution_count": 17,
     "metadata": {},
     "output_type": "execute_result"
    },
    {
     "data": {
      "image/png": "[encoded data removed]",
      "text/plain": [
       "<Figure size 576x288 with 2 Axes>"
      ]
     },
     "metadata": {
      "needs_background": "light"
     },
     "output_type": "display_data"
    }
   ],
   "source": [
    "fig, ax = plot_wigner_fock_distribution(reconstruced)\n",
    "plt.title(\"Fidelity reconstruction {}\".format(fidelity(reconstruced, Qobj(rho))))\n",
    "plt.show()"
   ]
  }
 ],
 "metadata": {
  "kernelspec": {
   "display_name": "Python 3.10.5 ('gd-qpt')",
   "language": "python",
   "name": "python3"
  },
  "language_info": {
   "codemirror_mode": {
    "name": "ipython",
    "version": 3
   },
   "file_extension": ".py",
   "mimetype": "text/x-python",
   "name": "python",
   "nbconvert_exporter": "python",
   "pygments_lexer": "ipython3",
   "version": "3.10.5"
  },
  "vscode": {
   "interpreter": {
    "hash": "7b8c2e5d3aedce9d5f9953f8a588dd6fc8f60566d9bb78978b5e021033c399b4"
   }
  }
 },
 "nbformat": 4,
 "nbformat_minor": 5
}
