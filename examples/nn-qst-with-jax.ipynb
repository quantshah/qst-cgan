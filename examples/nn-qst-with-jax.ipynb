{
 "cells": [
  {
   "cell_type": "markdown",
   "metadata": {},
   "source": [
    "# Quantum state tomography (QST) with a neural network written in Jax\n",
    "\n",
    "- Shahnawaz Ahmed (shahnawaz.ahmed95@gmail.com)\n",
    "\n",
    "In this notebook we show a simple demonstration of using the custom `DensityMatrix` and `Expectation` layer to build a neural network for QST that\n",
    "can take batches of data and works for an arbitrary Hilbert space dimension. We\n",
    "will verify the reconstruction by using simple linear inversion and CPTP projection following the recent CPTP projection algorithm in [arXiv:2107.01060](https://arxiv.org/abs/2107.01060). We will also implement a fast iterative maximum likelihood estimation method for QST."
   ]
  },
  {
   "cell_type": "markdown",
   "metadata": {},
   "source": [
    "#### Note 1:\n",
    "\n",
    "This notebook requires using the automatic differentiation library Jax (https://github.com/google/jax) and the DeepMind neural network tools dm-haiku (https://github.com/deepmind/dm-haiku) and optax. You also need to install QuTiP (qutip.org).\n",
    "\n",
    "The qutip installation requires Numpy, Scipy and Matplotlib for plotting. Install these first and then install QuTiP:\n",
    "\n",
    "```\n",
    "pip install numpy scipy matplotlib\n",
    "pip install qutip\n",
    "```\n",
    "\n",
    "In future notebooks I will try to reduce the dependency to only Jax and QuTiP. You can install Jax and dm-haiku simply from pip as:\n",
    "\n",
    "```\n",
    "pip install jax jaxlib\n",
    "pip install dm-haiku optax\n",
    "```\n",
    "\n",
    "I also use tqdm for nice progressbars\n",
    "\n",
    "```\n",
    "pip install tqdm\n",
    "```\n",
    "#### Note 2:\n",
    "\n",
    "The latest Python (3.10) has some problems building Numpy wheels while installing QuTiP. I would suggest using Python 3.9 if you face such issues or installing Numpy 1.20. as that is the one supported by QuTiP as of (Dec 1, 2021). If you have a working QuTiP installation then everything should be fine."
   ]
  },
  {
   "cell_type": "markdown",
   "metadata": {},
   "source": [
    "## Imports"
   ]
  },
  {
   "cell_type": "code",
   "execution_count": 1,
   "metadata": {},
   "outputs": [
    {
     "name": "stderr",
     "output_type": "stream",
     "text": [
      "/Users/shahnawaz/miniconda3/envs/implicit/lib/python3.9/site-packages/jax/experimental/optimizers.py:28: FutureWarning: jax.experimental.optimizers is deprecated, import jax.example_libraries.optimizers instead\n",
      "  warnings.warn('jax.experimental.optimizers is deprecated, '\n",
      "/Users/shahnawaz/miniconda3/envs/implicit/lib/python3.9/site-packages/tqdm/auto.py:22: TqdmWarning: IProgress not found. Please update jupyter and ipywidgets. See https://ipywidgets.readthedocs.io/en/stable/user_install.html\n",
      "  from .autonotebook import tqdm as notebook_tqdm\n"
     ]
    }
   ],
   "source": [
    "import numpy as np\n",
    "\n",
    "import jax\n",
    "import jax.numpy as jnp\n",
    "from jax import jit\n",
    "# from jax.ops import index, index_update\n",
    "from jax.config import config\n",
    "from jax.experimental import optimizers\n",
    "\n",
    "import haiku as hk\n",
    "\n",
    "import optax\n",
    "\n",
    "\n",
    "from qutip import coherent, coherent_dm, hinton, expect, Qobj\n",
    "from qutip import fidelity, plot_wigner\n",
    "\n",
    "import matplotlib.pyplot as plt\n",
    "\n",
    "config.update(\"jax_enable_x64\", True) # We want float64 for better accuracy\n",
    "\n",
    "from tqdm.auto import tqdm"
   ]
  },
  {
   "cell_type": "markdown",
   "metadata": {},
   "source": [
    "# The state to be reconstructed (a CAT state)\n",
    "\n",
    "Reconstructing the `cat` state from measurements of the Husimi Q function. The cat state is defined as:\n",
    "\n",
    "$$|\\psi_{\\text{cat}} \\rangle = \\frac{1}{\\mathcal N} ( |\\alpha \\rangle + |-\\alpha \\rangle \\big ) $$\n",
    "\n",
    "with $\\alpha=2$ and normalization $\\mathcal N$."
   ]
  },
  {
   "cell_type": "code",
   "execution_count": 15,
   "metadata": {},
   "outputs": [
    {
     "data": {
      "image/png": "[encoded data removed]",
      "text/plain": [
       "<Figure size 576x432 with 2 Axes>"
      ]
     },
     "metadata": {
      "needs_background": "light"
     },
     "output_type": "display_data"
    }
   ],
   "source": [
    "hilbert_size = 64\n",
    "alpha = 4\n",
    "\n",
    "psi = coherent(hilbert_size, alpha) + coherent(hilbert_size, -alpha)\n",
    "psi = psi.unit() # The .unit() function normalizes the state to have unit trace\n",
    "\n",
    "# Show the density matrix as a Hinton plot\n",
    "rho_true = psi*psi.dag()\n",
    "\n",
    "hinton(rho_true)\n",
    "plt.show()"
   ]
  },
  {
   "cell_type": "markdown",
   "metadata": {},
   "source": [
    "# The measurements performed on the state\n",
    "\n",
    "We compute the operators that measure the Husimi Q function of the state. These\n",
    "measurement operators can be replaced with any other operator for which we can\n",
    "obtain experimental expectation values (e.g., Wigner functions, Pauli X, Y, Z for qubits etc.)\n",
    "\n",
    "## Husimi Q function measurements\n",
    "\n",
    "The Husimi Q function can be obtained by calculating the expectation value of measuring the following operator:\n",
    "\n",
    "$$\\mathcal O_i = \\frac{1}{\\pi}|\\beta_i \\rangle \\langle \\beta_i|$$\n",
    "\n",
    "where $|\\beta_i \\rangle $ are coherent states written in the Fock basis.\n"
   ]
  },
  {
   "cell_type": "code",
   "execution_count": 10,
   "metadata": {},
   "outputs": [],
   "source": [
    "grid = 32\n",
    "\n",
    "xvec = np.linspace(-5, 5, grid)\n",
    "yvec = np.linspace(-5, 5, grid)\n",
    "\n",
    "X, Y = np.meshgrid(xvec, yvec)\n",
    "\n",
    "\n",
    "betas = ((X + 1j*Y)/np.sqrt(2)).ravel() # The complex-valued betas where we compute the Husimi Q\n",
    "\n",
    "m_ops = [(1/np.pi)*coherent_dm(hilbert_size, beta) for beta in betas]\n",
    "quasi_probabilities = expect(m_ops, psi)\n",
    "\n",
    "cmap = \"Blues\"\n",
    "im = plt.pcolor(xvec, yvec, quasi_probabilities.reshape((grid, grid)),\n",
    "                vmin=0, vmax=np.max(quasi_probabilities), cmap=cmap, shading='auto')\n",
    "\n",
    "plt.colorbar(im)\n",
    "\n",
    "plt.xlabel(r\"Re($\\beta$)\")\n",
    "plt.ylabel(r\"Im($\\beta$)\")\n",
    "plt.title(\"Husimi Q function\")\n",
    "plt.show()"
   ]
  },
  {
   "cell_type": "markdown",
   "metadata": {},
   "source": [
    "# Custom expectation function compiled with Jax"
   ]
  },
  {
   "cell_type": "code",
   "execution_count": 11,
   "metadata": {},
   "outputs": [
    {
     "name": "stderr",
     "output_type": "stream",
     "text": [
      "WARNING:absl:No GPU/TPU found, falling back to CPU. (Set TF_CPP_MIN_LOG_LEVEL=0 and rerun for more info.)\n"
     ]
    }
   ],
   "source": [
    "@jit # just in time compilation for speed\n",
    "def expectation(rho, ops):\n",
    "    \"\"\"Expectation layer that predicts the expectation value for operators\n",
    "\n",
    "    Args:\n",
    "        rho (array): A density matrix as a Jax array of shape (N, N)\n",
    "        ops (array): A set of measurement operators as a Jax array of shape\n",
    "                     (n, N, N) where n is the number of operators\n",
    "\n",
    "    Returns\n",
    "        evals (array): An array of expectation values for the operators.\n",
    "    \"\"\"\n",
    "    products = jnp.einsum('nij, jk -> nik', ops, rho)\n",
    "    trace = jnp.einsum('nii -> n', products)\n",
    "    return trace.real\n",
    "\n",
    "\n",
    "ops_jax = jnp.array([op.full() for op in m_ops])\n",
    "rho_jax = jnp.array(rho_true.full())\n",
    "quasi_probabilities_jax = expectation(rho_jax, ops_jax)\n",
    "\n",
    "# np.testing.assert_array_almost_equal(quasi_probabilities, quasi_probabilities_jax)"
   ]
  },
  {
   "cell_type": "markdown",
   "metadata": {},
   "source": [
    "# Custom Cholesky decomposition layer that coverts a random matrix to Hermitian"
   ]
  },
  {
   "cell_type": "code",
   "execution_count": 13,
   "metadata": {},
   "outputs": [
    {
     "name": "stdout",
     "output_type": "stream",
     "text": [
      "Hermitian: True\n"
     ]
    }
   ],
   "source": [
    "@jit\n",
    "def clean_cholesky(chi):\n",
    "    \"\"\"Converts a random matrix which has a shape (N, N, 2) to a Hermitian\n",
    "    matrix. The last dimension contains real and imaginary parts. \n",
    "    We consider a lower triangular complex matrix with real diagonals \n",
    "    and returning T'T.\n",
    "\n",
    "    Args:\n",
    "        chi (array): A matrix of shape (N, N, 2).\n",
    "\n",
    "    Returns\n",
    "        rho (array (complex)): A Hermitian matrix using the Cholesky decomposition\n",
    "    \"\"\"\n",
    "    diagonal_elements = jnp.diag(jnp.diag(chi).real)\n",
    "    indices = jnp.tril_indices(chi.shape[0], 0)\n",
    "    # chi_upper = index_update(chi, index[indices], 0)\n",
    "    chi_upper = chi.at[indices].set(0)\n",
    "    T = chi_upper + diagonal_elements\n",
    "    return jnp.conj(T.T)@T\n",
    "\n",
    "\n",
    "rand_mat = np.random.random(size=(hilbert_size, hilbert_size)) + 1j*np.random.random(size=(hilbert_size, hilbert_size))\n",
    "mat_cleaned = clean_cholesky(rand_mat)\n",
    "print(\"Hermitian:\", Qobj(np.array(mat_cleaned)).isherm)"
   ]
  },
  {
   "cell_type": "markdown",
   "metadata": {},
   "source": [
    "# Data from sampling/adding Gaussian noise to the measured expectation values\n",
    "# and taking a subset of the data"
   ]
  },
  {
   "cell_type": "code",
   "execution_count": 14,
   "metadata": {},
   "outputs": [
    {
     "ename": "NameError",
     "evalue": "name 'quasi_probabilities' is not defined",
     "output_type": "error",
     "traceback": [
      "\u001b[0;31m---------------------------------------------------------------------------\u001b[0m",
      "\u001b[0;31mNameError\u001b[0m                                 Traceback (most recent call last)",
      "\u001b[1;32m/Users/shahnawaz/dev/qst-cgan/examples/nn-qst-with-jax.ipynb Cell 14'\u001b[0m in \u001b[0;36m<cell line: 27>\u001b[0;34m()\u001b[0m\n\u001b[1;32m     <a href='vscode-notebook-cell:/Users/shahnawaz/dev/qst-cgan/examples/nn-qst-with-jax.ipynb#ch0000013?line=21'>22</a>\u001b[0m data \u001b[39m=\u001b[39m expect(m_ops, psi) \u001b[39m+\u001b[39m np\u001b[39m.\u001b[39mrandom\u001b[39m.\u001b[39muniform(\u001b[39m0\u001b[39m, \u001b[39m0.001\u001b[39m,\n\u001b[1;32m     <a href='vscode-notebook-cell:/Users/shahnawaz/dev/qst-cgan/examples/nn-qst-with-jax.ipynb#ch0000013?line=22'>23</a>\u001b[0m                                                  size\u001b[39m=\u001b[39m\u001b[39mlen\u001b[39m(rand_betas))\n\u001b[1;32m     <a href='vscode-notebook-cell:/Users/shahnawaz/dev/qst-cgan/examples/nn-qst-with-jax.ipynb#ch0000013?line=24'>25</a>\u001b[0m fig, ax \u001b[39m=\u001b[39m plt\u001b[39m.\u001b[39msubplots(\u001b[39m1\u001b[39m, \u001b[39m1\u001b[39m, figsize\u001b[39m=\u001b[39m(\u001b[39m6\u001b[39m, \u001b[39m4\u001b[39m), sharex\u001b[39m=\u001b[39m\u001b[39mTrue\u001b[39;00m, sharey\u001b[39m=\u001b[39m\u001b[39mTrue\u001b[39;00m)\n\u001b[0;32m---> <a href='vscode-notebook-cell:/Users/shahnawaz/dev/qst-cgan/examples/nn-qst-with-jax.ipynb#ch0000013?line=26'>27</a>\u001b[0m ax\u001b[39m.\u001b[39mpcolor(xvec, yvec, quasi_probabilities\u001b[39m.\u001b[39mreshape((grid, grid)), cmap\u001b[39m=\u001b[39m\u001b[39m\"\u001b[39m\u001b[39mBlues\u001b[39m\u001b[39m\"\u001b[39m)\n\u001b[1;32m     <a href='vscode-notebook-cell:/Users/shahnawaz/dev/qst-cgan/examples/nn-qst-with-jax.ipynb#ch0000013?line=27'>28</a>\u001b[0m ax\u001b[39m.\u001b[39mset_xlabel(\u001b[39mr\u001b[39m\u001b[39m\"\u001b[39m\u001b[39mRe($\u001b[39m\u001b[39m\\\u001b[39m\u001b[39mbeta$)\u001b[39m\u001b[39m\"\u001b[39m)\n\u001b[1;32m     <a href='vscode-notebook-cell:/Users/shahnawaz/dev/qst-cgan/examples/nn-qst-with-jax.ipynb#ch0000013?line=28'>29</a>\u001b[0m ax\u001b[39m.\u001b[39mset_ylabel(\u001b[39mr\u001b[39m\u001b[39m\"\u001b[39m\u001b[39mIm($\u001b[39m\u001b[39m\\\u001b[39m\u001b[39mbeta$)\u001b[39m\u001b[39m\"\u001b[39m)\n",
      "\u001b[0;31mNameError\u001b[0m: name 'quasi_probabilities' is not defined"
     ]
    },
    {
     "data": {
      "image/png": "[encoded data removed]",
      "text/plain": [
       "<Figure size 432x288 with 1 Axes>"
      ]
     },
     "metadata": {
      "needs_background": "light"
     },
     "output_type": "display_data"
    }
   ],
   "source": [
    "# The measurement operators\n",
    "def random_alpha(radius, inner_radius=0):\n",
    "    \"\"\"\n",
    "    Generates a random complex values within a circle\n",
    "    \n",
    "    Args:\n",
    "        radius (float): Radius for the values\n",
    "        inner_radius (float): Inner radius which defaults to 0.\n",
    "    \"\"\"\n",
    "    radius = np.random.uniform(inner_radius, radius)\n",
    "    phi = np.random.uniform(-np.pi, np.pi)\n",
    "    return radius * np.exp(1j * phi)\n",
    "\n",
    "\n",
    "num_points = 200\n",
    "beta_max = 5\n",
    "rand_betas = [random_alpha(beta_max) for i in range(num_points)]\n",
    "m_ops = [(1/np.pi)*coherent_dm(hilbert_size, beta) for beta in rand_betas]\n",
    "ops_jax = jnp.array([op.full() for op in m_ops])\n",
    "\n",
    "\n",
    "data = expect(m_ops, psi) + np.random.uniform(0, 0.001,\n",
    "                                                 size=len(rand_betas))\n",
    "\n",
    "fig, ax = plt.subplots(1, 1, figsize=(6, 4), sharex=True, sharey=True)\n",
    "\n",
    "ax.pcolor(xvec, yvec, quasi_probabilities.reshape((grid, grid)), cmap=\"Blues\")\n",
    "ax.set_xlabel(r\"Re($\\beta$)\")\n",
    "ax.set_ylabel(r\"Im($\\beta$)\")\n",
    "ax.set_title(\"Husimi Q function\")\n",
    "plt.scatter(np.real(rand_betas), np.imag(rand_betas), marker=\"x\", c=\"red\", s=1)\n",
    "plt.show()"
   ]
  },
  {
   "cell_type": "markdown",
   "metadata": {},
   "source": [
    "# A neural network that takes noisy data and operators and outputs expectations\n",
    "\n",
    "The network keeps a latent representation of the quantum state as a Hermitian\n",
    "matrix (density matrix) which we are after."
   ]
  },
  {
   "cell_type": "code",
   "execution_count": null,
   "metadata": {},
   "outputs": [],
   "source": [
    "class Network(hk.Module):\n",
    "    \"\"\"Network model that goes from data -> rho.\"\"\"\n",
    "    def __init__(self, hilbert_size):\n",
    "        super().__init__()\n",
    "        self.hilbert_size = hilbert_size\n",
    "\n",
    "    def __call__(self, x):\n",
    "        x = hk.Flatten()(x)\n",
    "        x = hk.Linear(64)(x)\n",
    "\n",
    "        x = jax.nn.leaky_relu(x)\n",
    "        x = hk.Linear(64)(x)\n",
    "        x = jax.nn.leaky_relu(x)\n",
    "        x = hk.Linear(64)(x)\n",
    "        x = jax.nn.leaky_relu(x)\n",
    "        x = x.reshape(1, -1)\n",
    "\n",
    "        x = hk.Linear(self.hilbert_size**2 * 2)(x) # Real and complex parts\n",
    "        x = x.reshape(self.hilbert_size, self.hilbert_size, 2)        \n",
    "        x = x[..., 0] + 1j*x[..., 1]\n",
    "        x = clean_cholesky(x)\n",
    "        x = x/jnp.trace(x) # Trace preserving\n",
    "        return x\n",
    "\n",
    "\n",
    "rng_seq = hk.PRNGSequence(32)\n",
    "model_forward = hk.transform(lambda x: Network(hilbert_size=hilbert_size)(x))\n",
    "model_forward = hk.without_apply_rng(model_forward)\n",
    "\n",
    "params = model_forward.init(next(rng_seq), data)\n",
    "# If you want to send data in batches this can be \n",
    "# data[:batch_size, :batch_size].real\n"
   ]
  },
  {
   "cell_type": "markdown",
   "metadata": {},
   "source": [
    "# Writing a loss function"
   ]
  },
  {
   "cell_type": "code",
   "execution_count": null,
   "metadata": {},
   "outputs": [],
   "source": [
    "def absolute_error(y_pred, y):\n",
    "    \"\"\"\n",
    "    Squared error\n",
    "    \n",
    "    Args:\n",
    "        y_pred, y (ndarray): Two arrays of shape (k, n) with k different vectors each sized n.\n",
    "    \"\"\"\n",
    "    return jnp.sum(jnp.abs(y - y_pred))\n",
    "\n",
    "\n",
    "@jit\n",
    "def cos_sim(y_true, y_pred):\n",
    "    return -jnp.sum(y_true * y_pred, axis=-1)\n",
    "\n",
    "\n",
    "@jit\n",
    "def loss_fn(params, d, ops):\n",
    "    \"\"\"Loss function to optimize.\n",
    "\n",
    "    Args:\n",
    "        params ([type]): Neural network parameters\n",
    "        d ([type]): Data\n",
    "        ops ([type]): Operators measured\n",
    "\n",
    "    Returns:\n",
    "        float: The loss value.\n",
    "    \"\"\"\n",
    "    rho_predicted = model_forward.apply(params, d)\n",
    "    data_predicted = expectation(rho_predicted, ops)\n",
    "    loss = absolute_error(d, data_predicted)\n",
    "    return loss + 0.001*jnp.sum(jnp.abs(rho_predicted))\n",
    "\n",
    "\n",
    "print(loss_fn(params, data, ops_jax))"
   ]
  },
  {
   "cell_type": "markdown",
   "metadata": {},
   "source": [
    "# Optimization with Adam\n",
    "\n",
    "Feel free to change the hyperparameters such as the learning rate. Also the number\n",
    "of optimization steps"
   ]
  },
  {
   "cell_type": "code",
   "execution_count": null,
   "metadata": {},
   "outputs": [],
   "source": [
    "optimizer = optax.adam(2e-2, 0.9, 0.9)\n",
    "opt_state = optimizer.init(params)\n",
    "\n",
    "@jax.jit\n",
    "def update(\n",
    "    params,\n",
    "    opt_state,\n",
    "    d, ops):\n",
    "    \"\"\"Single SGD update step.\"\"\"\n",
    "    grads = jax.grad(loss_fn)(params, d, ops)\n",
    "    updates, new_opt_state = optimizer.update(grads, opt_state)\n",
    "    new_params = optax.apply_updates(params, updates)\n",
    "    return new_params, new_opt_state\n",
    "\n",
    "\n",
    "loss_hist = []"
   ]
  },
  {
   "cell_type": "code",
   "execution_count": null,
   "metadata": {},
   "outputs": [],
   "source": [
    "for step in tqdm(range(1000)):\n",
    "    params, opt_state = update(params, opt_state, data, ops_jax)\n",
    "    loss_hist.append(loss_fn(params, data, ops_jax))\n",
    "    \n",
    "plt.plot(loss_hist)"
   ]
  },
  {
   "cell_type": "code",
   "execution_count": null,
   "metadata": {},
   "outputs": [],
   "source": [
    "rho_predicted = model_forward.apply(params, data)\n",
    "data_predicted = expectation(rho_predicted, ops_jax)\n",
    "rho_predicted = Qobj(np.array(rho_predicted))\n"
   ]
  },
  {
   "cell_type": "markdown",
   "metadata": {},
   "source": [
    "# Predicting the reconstruted data and the state\n",
    "\n",
    "With more noise in the Q function, the network predicts a different CAT!!"
   ]
  },
  {
   "cell_type": "code",
   "execution_count": null,
   "metadata": {},
   "outputs": [],
   "source": [
    "fig, ax = plt.subplots(1, 2, figsize=(12, 4))\n",
    "\n",
    "hinton(rho_true, ax=ax[0])\n",
    "hinton(rho_predicted, ax=ax[1])\n",
    "ax[0].set_title(r\"$\\rho$ (True)\")\n",
    "ax[1].set_title(r\"$\\rho$ (pred)\")\n",
    "plt.show()\n",
    "\n",
    "\n",
    "fig, ax = plt.subplots(1, 2, figsize=(10, 4))\n",
    "\n",
    "plot_wigner(rho_true, ax=ax[0])\n",
    "plot_wigner(rho_predicted, ax=ax[1])\n",
    "\n",
    "ax[0].set_title(r\"$\\rho$ (True)\")\n",
    "ax[1].set_title(r\"$\\rho$ (pred)\")\n",
    "plt.show()"
   ]
  },
  {
   "cell_type": "markdown",
   "metadata": {},
   "source": [
    "# The data from the reconstruction however matches with the noisy data"
   ]
  },
  {
   "cell_type": "code",
   "execution_count": null,
   "metadata": {},
   "outputs": [],
   "source": [
    "plt.plot(data, label=\"Data\")\n",
    "plt.plot(data_predicted, label=\"Predicted\")\n",
    "plt.legend()\n",
    "plt.show()"
   ]
  },
  {
   "cell_type": "code",
   "execution_count": null,
   "metadata": {},
   "outputs": [],
   "source": [
    "# fig, ax = plt.subplots(1, 2, figsize=(12, 4), sharex=True, sharey=True)\n",
    "\n",
    "# im = ax[0].pcolor(xvec, yvec, data.reshape((grid, grid)), cmap=\"Blues\")\n",
    "# ax[1].pcolor(xvec, yvec, data_predicted.reshape((grid, grid)), cmap=\"Blues\")\n",
    "\n",
    "# ax[0].set_xlabel(r\"Re($\\beta$)\")\n",
    "# ax[1].set_xlabel(r\"Re($\\beta$)\")\n",
    "# ax[0].set_ylabel(r\"Im($\\beta$)\")\n",
    "# ax[0].set_title(\"Noisy data\")\n",
    "# ax[1].set_title(\"Reconstructed\\nFidelity {}\".format(fidelity(rho_true, rho_predicted)))\n",
    "# plt.colorbar(im, ax=[axis for axis in ax])\n",
    "# plt.show()"
   ]
  },
  {
   "cell_type": "code",
   "execution_count": null,
   "metadata": {},
   "outputs": [],
   "source": []
  }
 ],
 "metadata": {
  "interpreter": {
   "hash": "1fa4444d81637a0f0dbd574e326b9dbd8553cc428d224073539811ecb6308a52"
  },
  "kernelspec": {
   "display_name": "Python 3.9.12 ('implicit')",
   "language": "python",
   "name": "python3"
  },
  "language_info": {
   "codemirror_mode": {
    "name": "ipython",
    "version": 3
   },
   "file_extension": ".py",
   "mimetype": "text/x-python",
   "name": "python",
   "nbconvert_exporter": "python",
   "pygments_lexer": "ipython3",
   "version": "3.9.12"
  },
  "orig_nbformat": 4
 },
 "nbformat": 4,
 "nbformat_minor": 2
}
